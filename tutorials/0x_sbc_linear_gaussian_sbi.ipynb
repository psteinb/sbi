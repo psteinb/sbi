{
 "cells": [
  {
   "cell_type": "code",
   "execution_count": 2,
   "id": "secret-safety",
   "metadata": {
    "collapsed": false
   },
   "outputs": [
    {
     "data": {
      "text/plain": [
       "<torch._C.Generator at 0x7f5dd806ccd0>"
      ]
     },
     "execution_count": 2,
     "metadata": {},
     "output_type": "execute_result"
    }
   ],
   "source": [
    "import sys\n",
    "from pprint import pprint\n",
    "from pathlib import Path\n",
    "import pickle\n",
    "\n",
    "import numpy as np\n",
    "import torch\n",
    "\n",
    "import matplotlib.pyplot as plt\n",
    "plt.style.use('dark_background')\n",
    "\n",
    "np.random.seed(45)\n",
    "torch.random.manual_seed(45)\n",
    "\n"
   ]
  },
  {
   "cell_type": "code",
   "execution_count": 3,
   "id": "saved-television",
   "metadata": {
    "collapsed": false
   },
   "outputs": [],
   "source": [
    "def theta_distributions(theta, verbose=False, ncols = 4, n_bins = 50, hrange=None, hcolor=None ):\n",
    "    \"\"\" plot histograms of each dimension found on each row in <theta>,\n",
    "    e.g. theta.shape = (64,4), this would give 4 histograms where each of the\n",
    "    four dimensions in theta.shape[-1] will be plotted\n",
    "\n",
    "    Returns\n",
    "    -------\n",
    "    fig : matplotlib.figure\n",
    "          the matplotlib sublpots figure object\n",
    "    axs : matplotlib.axes object\n",
    "          the matplotlib sublpots axes object\n",
    "    \"\"\"\n",
    "\n",
    "    nparams = theta.shape[-1]\n",
    "    nrows = round((nparams + ncols - 1)/ncols)\n",
    "    print(f\"preparing {nrows}x{ncols} figure\")\n",
    "    fig, axs = plt.subplots(nrows, ncols, figsize=(16, 12), sharey=True, tight_layout=True)\n",
    "\n",
    "    print(\"{0:>5s} {1:>8s} {2:>8s} {3:>8s} {4:>8s}\".format(\"index\",\"min\",\"mean\",\"std\",\"max\"))\n",
    "\n",
    "    for yax in range(nrows):\n",
    "        for xax in range(ncols):\n",
    "            idx = yax*ncols + xax\n",
    "            if idx >= theta.shape[-1]:\n",
    "                axs[yax, xax].axis('off')\n",
    "                continue\n",
    "            var = theta[:, idx]\n",
    "\n",
    "            payload = (idx, theta.shape[-1], var.min(), var.mean(), var.std(), var.max())\n",
    "            print(\"{0:2.0f}/{1:2.0f} {2:>8.4f} {3:>8.4f} {4:>8.4f} {5:>8.4f}\".format(*payload))\n",
    "\n",
    "            axs[yax, xax].hist(var, bins=n_bins, range=hrange,  color=hcolor)\n",
    "            axs[yax, xax].set_title(f\"param {idx}/{theta.shape[-1]}\\nmean: {var.mean():8.4f}, std: {var.std():8.4f}, N: {var.size}\")\n",
    "\n",
    "    return fig, axs"
   ]
  },
  {
   "cell_type": "code",
   "execution_count": 4,
   "id": "coordinate-routine",
   "metadata": {
    "collapsed": false
   },
   "outputs": [],
   "source": [
    "from sbi.inference import SNPE, prepare_for_sbi, simulate_for_sbi\n",
    "from sbi.utils.get_nn_models import posterior_nn\n",
    "from sbi import utils as utils\n",
    "from sbi import analysis as analysis"
   ]
  },
  {
   "cell_type": "markdown",
   "id": "filled-reception",
   "metadata": {
    "collapsed": false
   },
   "source": [
    "## Model Calibration with Simulation-Based Calibration (SBC)\n",
    "\n",
    "- inspired by Talts et al \"Validating Bayesian Inference Algorithms with Simulation-Based Calibration\" http://arxiv.org/abs/1804.06788\n",
    "- see also this repo implemting SBC with pyMC3 https://github.com/ColCarroll/simulation_based_calibration\n"
   ]
  },
  {
   "cell_type": "code",
   "execution_count": 5,
   "id": "animal-highlight",
   "metadata": {
    "collapsed": false
   },
   "outputs": [],
   "source": [
    "\n",
    "def sbc_ranks(prior, posterior, simulate_fn, n_trials = 1024, n_draws = 8192):\n",
    "    \"\"\"\n",
    "    Under BSD-3 license by Peter Steinbach, 2021\n",
    "\n",
    "    implemting rank statistic simulation-based calibration given a SBI trained posterior\n",
    "    introducted by Talts et al \"Validating Bayesian Inference Algorithms with\n",
    "    Simulation-Based Calibration\" http://arxiv.org/abs/1804.06788\n",
    "\n",
    "    (TODO: unclear if the function f on page 5, just below equation 2 is coded\n",
    "    correctly)\n",
    "\n",
    "    Parameters\n",
    "    ----------\n",
    "    prior : sbi.prior\n",
    "            prior object as returned by torch.distributions.MultivariateNormal or sbi.utils.BoxUniform\n",
    "    posterior : sbi.posterior object\n",
    "                posterior object as returned by inference.build_posterior\n",
    "    simulate_fn : function object\n",
    "                  expected to take one single argument <theta> to produce samples of <x>\n",
    "    n_trials : int, default=1024\n",
    "               number of times to sample the posterior\n",
    "    n_draws : int, default=8192\n",
    "              number of samples to draw per trial\n",
    "\n",
    "    Returns\n",
    "    -------\n",
    "    nranks : np.ndarray\n",
    "             returns an ndarray of shape=(n_trials, theta.shape[-1]);\n",
    "             for each batch, the rank of the estimated theta dimension is contained\n",
    "             with respect to the expectation drawn from the prior\n",
    "    \"\"\"\n",
    "    exp_theta = prior.sample((n_trials,))\n",
    "    nranks = np.zeros((n_trials, exp_theta.shape[-1]))\n",
    "\n",
    "    #TODO: this can be parallelized\n",
    "    for idx in range(n_trials):\n",
    "        x_o = simulate_fn(exp_theta[idx])\n",
    "\n",
    "        #draw samples from model\n",
    "        posterior_samples = posterior.sample((ndraws,),\n",
    "                                             x=x_o,\n",
    "                                             show_progress_bars=False).detach().numpy()\n",
    "\n",
    "        #expand single theta_tilde to match posterior_samples.shape\n",
    "        out_shape = (ndraws, exp_theta.shape[-1])\n",
    "        x_tilde_tiled = np.tile(exp_theta[idx], ndraws).reshape(out_shape)\n",
    "\n",
    "        #compute mask as described on page 5 just below equation 2\n",
    "        mask = posterior_samples < x_tilde_tiled\n",
    "\n",
    "        #sum up mask to provide ranks per dimension\n",
    "        nranks[idx, ...] = mask.sum(axis=0)\n",
    "\n",
    "    return nranks\n"
   ]
  },
  {
   "cell_type": "code",
   "execution_count": 6,
   "id": "respiratory-receipt",
   "metadata": {
    "collapsed": false
   },
   "outputs": [
    {
     "data": {
      "application/vnd.jupyter.widget-view+json": {
       "model_id": "a619ba5fd6114cec8bef0daea3235ba4",
       "version_major": 2,
       "version_minor": 0
      },
      "text/plain": [
       "Running 500 simulations.:   0%|          | 0/500 [00:00<?, ?it/s]"
      ]
     },
     "metadata": {},
     "output_type": "display_data"
    },
    {
     "name": "stdout",
     "output_type": "stream",
     "text": [
      "Training neural network. Epochs trained:  1\r",
      "Training neural network. Epochs trained:  2\r",
      "Training neural network. Epochs trained:  3\r"
     ]
    },
    {
     "name": "stdout",
     "output_type": "stream",
     "text": [
      "Training neural network. Epochs trained:  4\r",
      "Training neural network. Epochs trained:  5\r",
      "Training neural network. Epochs trained:  6\r"
     ]
    },
    {
     "name": "stdout",
     "output_type": "stream",
     "text": [
      "Training neural network. Epochs trained:  7\r",
      "Training neural network. Epochs trained:  8\r",
      "Training neural network. Epochs trained:  9\r"
     ]
    },
    {
     "name": "stdout",
     "output_type": "stream",
     "text": [
      "Training neural network. Epochs trained:  10\r",
      "Training neural network. Epochs trained:  11\r",
      "Training neural network. Epochs trained:  12\r"
     ]
    },
    {
     "name": "stdout",
     "output_type": "stream",
     "text": [
      "Training neural network. Epochs trained:  13\r",
      "Training neural network. Epochs trained:  14\r",
      "Training neural network. Epochs trained:  15\r"
     ]
    },
    {
     "name": "stdout",
     "output_type": "stream",
     "text": [
      "Training neural network. Epochs trained:  16\r",
      "Training neural network. Epochs trained:  17\r",
      "Training neural network. Epochs trained:  18\r"
     ]
    },
    {
     "name": "stdout",
     "output_type": "stream",
     "text": [
      "Training neural network. Epochs trained:  19\r",
      "Training neural network. Epochs trained:  20\r",
      "Training neural network. Epochs trained:  21\r"
     ]
    },
    {
     "name": "stdout",
     "output_type": "stream",
     "text": [
      "Training neural network. Epochs trained:  22\r",
      "Training neural network. Epochs trained:  23\r",
      "Training neural network. Epochs trained:  24\r"
     ]
    },
    {
     "name": "stdout",
     "output_type": "stream",
     "text": [
      "Training neural network. Epochs trained:  25\r",
      "Training neural network. Epochs trained:  26\r",
      "Training neural network. Epochs trained:  27\r"
     ]
    },
    {
     "name": "stdout",
     "output_type": "stream",
     "text": [
      "Training neural network. Epochs trained:  28\r",
      "Training neural network. Epochs trained:  29\r",
      "Training neural network. Epochs trained:  30\r"
     ]
    },
    {
     "name": "stdout",
     "output_type": "stream",
     "text": [
      "Training neural network. Epochs trained:  31\r",
      "Training neural network. Epochs trained:  32\r",
      "Training neural network. Epochs trained:  33\r"
     ]
    },
    {
     "name": "stdout",
     "output_type": "stream",
     "text": [
      "Training neural network. Epochs trained:  34\r",
      "Training neural network. Epochs trained:  35\r",
      "Training neural network. Epochs trained:  36\r"
     ]
    },
    {
     "name": "stdout",
     "output_type": "stream",
     "text": [
      "Training neural network. Epochs trained:  37\r",
      "Training neural network. Epochs trained:  38\r",
      "Training neural network. Epochs trained:  39\r"
     ]
    },
    {
     "name": "stdout",
     "output_type": "stream",
     "text": [
      "Training neural network. Epochs trained:  40\r",
      "Training neural network. Epochs trained:  41\r",
      "Training neural network. Epochs trained:  42\r"
     ]
    },
    {
     "name": "stdout",
     "output_type": "stream",
     "text": [
      "Training neural network. Epochs trained:  43\r",
      "Training neural network. Epochs trained:  44\r",
      "Training neural network. Epochs trained:  45\r"
     ]
    },
    {
     "name": "stdout",
     "output_type": "stream",
     "text": [
      "Training neural network. Epochs trained:  46\r",
      "Training neural network. Epochs trained:  47\r",
      "Training neural network. Epochs trained:  48\r"
     ]
    },
    {
     "name": "stdout",
     "output_type": "stream",
     "text": [
      "Training neural network. Epochs trained:  49\r",
      "Training neural network. Epochs trained:  50\r",
      "Training neural network. Epochs trained:  51\r"
     ]
    },
    {
     "name": "stdout",
     "output_type": "stream",
     "text": [
      "Training neural network. Epochs trained:  52\r",
      "Training neural network. Epochs trained:  53\r"
     ]
    },
    {
     "name": "stdout",
     "output_type": "stream",
     "text": [
      "Training neural network. Epochs trained:  54\r",
      "Training neural network. Epochs trained:  55\r",
      "Training neural network. Epochs trained:  56\r"
     ]
    },
    {
     "name": "stdout",
     "output_type": "stream",
     "text": [
      "Training neural network. Epochs trained:  57\r",
      "Training neural network. Epochs trained:  58\r",
      "Training neural network. Epochs trained:  59\r"
     ]
    },
    {
     "name": "stdout",
     "output_type": "stream",
     "text": [
      "Training neural network. Epochs trained:  60\r",
      "Training neural network. Epochs trained:  61\r",
      "Training neural network. Epochs trained:  62\r"
     ]
    },
    {
     "name": "stdout",
     "output_type": "stream",
     "text": [
      "Training neural network. Epochs trained:  63\r",
      "Training neural network. Epochs trained:  64\r",
      "Training neural network. Epochs trained:  65\r"
     ]
    },
    {
     "name": "stdout",
     "output_type": "stream",
     "text": [
      "Training neural network. Epochs trained:  66\r",
      "Training neural network. Epochs trained:  67\r",
      "Training neural network. Epochs trained:  68\r"
     ]
    },
    {
     "name": "stdout",
     "output_type": "stream",
     "text": [
      "Training neural network. Epochs trained:  69\r",
      "Training neural network. Epochs trained:  70\r",
      "Training neural network. Epochs trained:  71\r"
     ]
    },
    {
     "name": "stdout",
     "output_type": "stream",
     "text": [
      "Training neural network. Epochs trained:  72\r",
      "Training neural network. Epochs trained:  73\r",
      "Training neural network. Epochs trained:  74\r"
     ]
    },
    {
     "name": "stdout",
     "output_type": "stream",
     "text": [
      "Training neural network. Epochs trained:  75\r",
      "Training neural network. Epochs trained:  76\r",
      "Training neural network. Epochs trained:  77\r"
     ]
    },
    {
     "name": "stdout",
     "output_type": "stream",
     "text": [
      "Training neural network. Epochs trained:  78\r",
      "Training neural network. Epochs trained:  79\r",
      "Training neural network. Epochs trained:  80\r"
     ]
    },
    {
     "name": "stdout",
     "output_type": "stream",
     "text": [
      "Training neural network. Epochs trained:  81\r",
      "Training neural network. Epochs trained:  82\r",
      "Training neural network. Epochs trained:  83\r"
     ]
    },
    {
     "name": "stdout",
     "output_type": "stream",
     "text": [
      "Training neural network. Epochs trained:  84\r",
      "Training neural network. Epochs trained:  85\r",
      "Training neural network. Epochs trained:  86\r"
     ]
    },
    {
     "name": "stdout",
     "output_type": "stream",
     "text": [
      "Training neural network. Epochs trained:  87\r",
      "Training neural network. Epochs trained:  88\r",
      "Training neural network. Epochs trained:  89\r"
     ]
    },
    {
     "name": "stdout",
     "output_type": "stream",
     "text": [
      "Training neural network. Epochs trained:  90\r",
      "Training neural network. Epochs trained:  91\r",
      "Training neural network. Epochs trained:  92\r"
     ]
    },
    {
     "name": "stdout",
     "output_type": "stream",
     "text": [
      "Training neural network. Epochs trained:  93\r",
      "Training neural network. Epochs trained:  94\r",
      "Training neural network. Epochs trained:  95\r"
     ]
    },
    {
     "name": "stdout",
     "output_type": "stream",
     "text": [
      "Training neural network. Epochs trained:  96\r",
      "Training neural network. Epochs trained:  97\r",
      "Training neural network. Epochs trained:  98\r"
     ]
    },
    {
     "name": "stdout",
     "output_type": "stream",
     "text": [
      "Training neural network. Epochs trained:  99\r",
      "Training neural network. Epochs trained:  100\r",
      "Training neural network. Epochs trained:  101\r"
     ]
    },
    {
     "name": "stdout",
     "output_type": "stream",
     "text": [
      "Training neural network. Epochs trained:  102\r",
      "Training neural network. Epochs trained:  103\r",
      "Training neural network. Epochs trained:  104\r"
     ]
    },
    {
     "name": "stdout",
     "output_type": "stream",
     "text": [
      "Training neural network. Epochs trained:  105\r",
      "Training neural network. Epochs trained:  106\r",
      "Training neural network. Epochs trained:  107\r"
     ]
    },
    {
     "name": "stdout",
     "output_type": "stream",
     "text": [
      "Training neural network. Epochs trained:  108\r",
      "Training neural network. Epochs trained:  109\r",
      "Training neural network. Epochs trained:  110\r"
     ]
    },
    {
     "name": "stdout",
     "output_type": "stream",
     "text": [
      "Training neural network. Epochs trained:  111\r",
      "Training neural network. Epochs trained:  112\r",
      "Training neural network. Epochs trained:  113\r"
     ]
    },
    {
     "name": "stdout",
     "output_type": "stream",
     "text": [
      "Training neural network. Epochs trained:  114\r",
      "Training neural network. Epochs trained:  115\r",
      "Training neural network. Epochs trained:  116\r"
     ]
    },
    {
     "name": "stdout",
     "output_type": "stream",
     "text": [
      "Training neural network. Epochs trained:  117\r",
      "Training neural network. Epochs trained:  118\r",
      "Training neural network. Epochs trained:  119\r"
     ]
    },
    {
     "name": "stdout",
     "output_type": "stream",
     "text": [
      "Training neural network. Epochs trained:  120\r",
      "Training neural network. Epochs trained:  121\r",
      "Training neural network. Epochs trained:  122\r"
     ]
    },
    {
     "name": "stdout",
     "output_type": "stream",
     "text": [
      "Training neural network. Epochs trained:  123\r",
      "Training neural network. Epochs trained:  124\r",
      "Training neural network. Epochs trained:  125\r"
     ]
    },
    {
     "name": "stdout",
     "output_type": "stream",
     "text": [
      "Training neural network. Epochs trained:  126\r",
      "Training neural network. Epochs trained:  127\r",
      "Training neural network. Epochs trained:  128\r"
     ]
    },
    {
     "name": "stdout",
     "output_type": "stream",
     "text": [
      "Training neural network. Epochs trained:  129\r",
      "Training neural network. Epochs trained:  130\r",
      "Training neural network. Epochs trained:  131\r"
     ]
    },
    {
     "name": "stdout",
     "output_type": "stream",
     "text": [
      "Training neural network. Epochs trained:  132\r",
      "Training neural network. Epochs trained:  133\r",
      "Neural network successfully converged after 133 epochs.\n"
     ]
    }
   ],
   "source": [
    "#taken from https://www.mackelab.org/sbi/tutorial/02_flexible_interface/#linear-gaussian-example\n",
    "\n",
    "num_dim = 3\n",
    "prior = utils.BoxUniform(low=-2*torch.ones(num_dim), \n",
    "                         high=2*torch.ones(num_dim))\n",
    "\n",
    "def linear_gaussian(theta):\n",
    "    return theta + 1.0 + torch.randn_like(theta) * 0.1\n",
    "\n",
    "simulator, prior = prepare_for_sbi(linear_gaussian, prior)\n",
    "inference = SNPE(prior=prior)\n",
    "theta, x = simulate_for_sbi(simulator, proposal=prior, num_simulations=500)\n",
    "inference = inference.append_simulations(theta, x)\n",
    "density_estimator = inference.train()"
   ]
  },
  {
   "cell_type": "code",
   "execution_count": 7,
   "id": "constant-durham",
   "metadata": {
    "collapsed": false
   },
   "outputs": [
    {
     "name": "stdout",
     "output_type": "stream",
     "text": [
      "Posterior conditional density p(θ|x) (amortized).\n",
      "\n",
      "This DirectPosterior-object was obtained with a SNPE-class method using a flow.\n",
      "It allows to .sample() and .log_prob() the posterior and wraps the output of the .net to avoid leakage into regions with 0 prior probability.\n"
     ]
    }
   ],
   "source": [
    "posterior = inference.build_posterior(density_estimator)\n",
    "print(posterior)"
   ]
  },
  {
   "cell_type": "code",
   "execution_count": 8,
   "id": "postal-glance",
   "metadata": {
    "collapsed": false
   },
   "outputs": [
    {
     "data": {
      "application/vnd.jupyter.widget-view+json": {
       "model_id": "ad58c60d15014396bc93cebd7a301a8e",
       "version_major": 2,
       "version_minor": 0
      },
      "text/plain": [
       "Drawing 10000 posterior samples:   0%|          | 0/10000 [00:00<?, ?it/s]"
      ]
     },
     "metadata": {},
     "output_type": "display_data"
    },
    {
     "data": {
      "image/png": "[encoded data removed]",
      "text/plain": [
       "<Figure size 360x360 with 9 Axes>"
      ]
     },
     "metadata": {},
     "output_type": "display_data"
    }
   ],
   "source": [
    "exp_theta = prior.sample((128,))\n",
    "x_o = linear_gaussian(exp_theta)\n",
    "posterior_samples = posterior.sample((10000,), x=x_o[0, ...])\n",
    "\n",
    "# plot posterior samples\n",
    "_ = analysis.pairplot(posterior_samples, limits=[[-2.1,2.1],[-2.1,2.1],[-2.1,2.1]], \n",
    "                   figsize=(5,5))"
   ]
  },
  {
   "cell_type": "code",
   "execution_count": 9,
   "id": "worse-mortgage",
   "metadata": {
    "collapsed": false
   },
   "outputs": [],
   "source": [
    "n_trials = 1024\n",
    "n_draws = 8*1024\n",
    "\n",
    "# exp_theta = prior.sample((n_trials,))\n",
    "# x_o = linear_gaussian(exp_theta)\n",
    "\n",
    "nranks = sbc_ranks(prior, posterior, linear_gaussian, n_trials, n_draws)\n"
   ]
  },
  {
   "cell_type": "code",
   "execution_count": 10,
   "id": "statewide-gross",
   "metadata": {
    "collapsed": false
   },
   "outputs": [
    {
     "name": "stdout",
     "output_type": "stream",
     "text": [
      "preparing 2x2 figure\n",
      "index      min     mean      std      max\n",
      " 0/ 3 109.0000 3924.5234 1833.7573 8047.0000\n",
      " 1/ 3   7.0000 4135.5283 1841.8389 8140.0000\n",
      " 2/ 3  21.0000 4018.1514 2003.0869 8147.0000\n"
     ]
    },
    {
     "data": {
      "image/png": "[encoded data removed]",
      "text/plain": [
       "<Figure size 1152x864 with 4 Axes>"
      ]
     },
     "metadata": {},
     "output_type": "display_data"
    }
   ],
   "source": [
    "f, axs = theta_distributions(nranks, ncols =2, n_bins = 16, hcolor='r' )\n",
    "f.savefig(\"sbi_linear_gaussian_dataset_3p_sbc_ranks.svg\")"
   ]
  },
  {
   "cell_type": "markdown",
   "id": "direct-vienna",
   "metadata": {
    "collapsed": false
   },
   "source": [
    "The above should match figure 5b on page 7 of [Talts et al](http://arxiv.org/abs/1804.06788)."
   ]
  },
  {
   "cell_type": "code",
   "execution_count": 11,
   "id": "confident-atlanta",
   "metadata": {
    "collapsed": false
   },
   "outputs": [
    {
     "data": {
      "application/vnd.jupyter.widget-view+json": {
       "model_id": "e12fcd90f6ae485583cc1d3fe687bbb7",
       "version_major": 2,
       "version_minor": 0
      },
      "text/plain": [
       "Running 15000 simulations.:   0%|          | 0/15000 [00:00<?, ?it/s]"
      ]
     },
     "metadata": {},
     "output_type": "display_data"
    },
    {
     "name": "stdout",
     "output_type": "stream",
     "text": [
      "Training neural network. Epochs trained:  1\r"
     ]
    },
    {
     "name": "stdout",
     "output_type": "stream",
     "text": [
      "Training neural network. Epochs trained:  2\r"
     ]
    },
    {
     "name": "stdout",
     "output_type": "stream",
     "text": [
      "Training neural network. Epochs trained:  3\r"
     ]
    },
    {
     "name": "stdout",
     "output_type": "stream",
     "text": [
      "Training neural network. Epochs trained:  4\r"
     ]
    },
    {
     "name": "stdout",
     "output_type": "stream",
     "text": [
      "Training neural network. Epochs trained:  5\r"
     ]
    },
    {
     "name": "stdout",
     "output_type": "stream",
     "text": [
      "Training neural network. Epochs trained:  6\r"
     ]
    },
    {
     "name": "stdout",
     "output_type": "stream",
     "text": [
      "Training neural network. Epochs trained:  7\r"
     ]
    },
    {
     "name": "stdout",
     "output_type": "stream",
     "text": [
      "Training neural network. Epochs trained:  8\r"
     ]
    },
    {
     "name": "stdout",
     "output_type": "stream",
     "text": [
      "Training neural network. Epochs trained:  9\r"
     ]
    },
    {
     "name": "stdout",
     "output_type": "stream",
     "text": [
      "Training neural network. Epochs trained:  10\r"
     ]
    },
    {
     "name": "stdout",
     "output_type": "stream",
     "text": [
      "Training neural network. Epochs trained:  11\r"
     ]
    },
    {
     "name": "stdout",
     "output_type": "stream",
     "text": [
      "Training neural network. Epochs trained:  12\r"
     ]
    },
    {
     "name": "stdout",
     "output_type": "stream",
     "text": [
      "Training neural network. Epochs trained:  13\r"
     ]
    },
    {
     "name": "stdout",
     "output_type": "stream",
     "text": [
      "Training neural network. Epochs trained:  14\r"
     ]
    },
    {
     "name": "stdout",
     "output_type": "stream",
     "text": [
      "Training neural network. Epochs trained:  15\r"
     ]
    },
    {
     "name": "stdout",
     "output_type": "stream",
     "text": [
      "Training neural network. Epochs trained:  16\r"
     ]
    },
    {
     "name": "stdout",
     "output_type": "stream",
     "text": [
      "Training neural network. Epochs trained:  17\r"
     ]
    },
    {
     "name": "stdout",
     "output_type": "stream",
     "text": [
      "Training neural network. Epochs trained:  18\r"
     ]
    },
    {
     "name": "stdout",
     "output_type": "stream",
     "text": [
      "Training neural network. Epochs trained:  19\r"
     ]
    },
    {
     "name": "stdout",
     "output_type": "stream",
     "text": [
      "Training neural network. Epochs trained:  20\r"
     ]
    },
    {
     "name": "stdout",
     "output_type": "stream",
     "text": [
      "Training neural network. Epochs trained:  21\r"
     ]
    },
    {
     "name": "stdout",
     "output_type": "stream",
     "text": [
      "Training neural network. Epochs trained:  22\r"
     ]
    },
    {
     "name": "stdout",
     "output_type": "stream",
     "text": [
      "Training neural network. Epochs trained:  23\r"
     ]
    },
    {
     "name": "stdout",
     "output_type": "stream",
     "text": [
      "Training neural network. Epochs trained:  24\r"
     ]
    },
    {
     "name": "stdout",
     "output_type": "stream",
     "text": [
      "Training neural network. Epochs trained:  25\r"
     ]
    },
    {
     "name": "stdout",
     "output_type": "stream",
     "text": [
      "Training neural network. Epochs trained:  26\r"
     ]
    },
    {
     "name": "stdout",
     "output_type": "stream",
     "text": [
      "Training neural network. Epochs trained:  27\r"
     ]
    },
    {
     "name": "stdout",
     "output_type": "stream",
     "text": [
      "Training neural network. Epochs trained:  28\r"
     ]
    },
    {
     "name": "stdout",
     "output_type": "stream",
     "text": [
      "Training neural network. Epochs trained:  29\r"
     ]
    },
    {
     "name": "stdout",
     "output_type": "stream",
     "text": [
      "Training neural network. Epochs trained:  30\r"
     ]
    },
    {
     "name": "stdout",
     "output_type": "stream",
     "text": [
      "Training neural network. Epochs trained:  31\r"
     ]
    },
    {
     "name": "stdout",
     "output_type": "stream",
     "text": [
      "Training neural network. Epochs trained:  32\r"
     ]
    },
    {
     "name": "stdout",
     "output_type": "stream",
     "text": [
      "Training neural network. Epochs trained:  33\r"
     ]
    },
    {
     "name": "stdout",
     "output_type": "stream",
     "text": [
      "Training neural network. Epochs trained:  34\r"
     ]
    },
    {
     "name": "stdout",
     "output_type": "stream",
     "text": [
      "Training neural network. Epochs trained:  35\r"
     ]
    },
    {
     "name": "stdout",
     "output_type": "stream",
     "text": [
      "Training neural network. Epochs trained:  36\r"
     ]
    },
    {
     "name": "stdout",
     "output_type": "stream",
     "text": [
      "Training neural network. Epochs trained:  37\r"
     ]
    },
    {
     "name": "stdout",
     "output_type": "stream",
     "text": [
      "Training neural network. Epochs trained:  38\r"
     ]
    },
    {
     "name": "stdout",
     "output_type": "stream",
     "text": [
      "Training neural network. Epochs trained:  39\r"
     ]
    },
    {
     "name": "stdout",
     "output_type": "stream",
     "text": [
      "Training neural network. Epochs trained:  40\r"
     ]
    },
    {
     "name": "stdout",
     "output_type": "stream",
     "text": [
      "Training neural network. Epochs trained:  41\r"
     ]
    },
    {
     "name": "stdout",
     "output_type": "stream",
     "text": [
      "Training neural network. Epochs trained:  42\r"
     ]
    },
    {
     "name": "stdout",
     "output_type": "stream",
     "text": [
      "Training neural network. Epochs trained:  43\r"
     ]
    },
    {
     "name": "stdout",
     "output_type": "stream",
     "text": [
      "Training neural network. Epochs trained:  44\r"
     ]
    },
    {
     "name": "stdout",
     "output_type": "stream",
     "text": [
      "Training neural network. Epochs trained:  45\r"
     ]
    },
    {
     "name": "stdout",
     "output_type": "stream",
     "text": [
      "Training neural network. Epochs trained:  46\r"
     ]
    },
    {
     "name": "stdout",
     "output_type": "stream",
     "text": [
      "Training neural network. Epochs trained:  47\r"
     ]
    },
    {
     "name": "stdout",
     "output_type": "stream",
     "text": [
      "Training neural network. Epochs trained:  48\r"
     ]
    },
    {
     "name": "stdout",
     "output_type": "stream",
     "text": [
      "Training neural network. Epochs trained:  49\r"
     ]
    },
    {
     "name": "stdout",
     "output_type": "stream",
     "text": [
      "Training neural network. Epochs trained:  50\r"
     ]
    },
    {
     "name": "stdout",
     "output_type": "stream",
     "text": [
      "Training neural network. Epochs trained:  51\r"
     ]
    },
    {
     "name": "stdout",
     "output_type": "stream",
     "text": [
      "Training neural network. Epochs trained:  52\r"
     ]
    },
    {
     "name": "stdout",
     "output_type": "stream",
     "text": [
      "Training neural network. Epochs trained:  53\r"
     ]
    },
    {
     "name": "stdout",
     "output_type": "stream",
     "text": [
      "Training neural network. Epochs trained:  54\r"
     ]
    },
    {
     "name": "stdout",
     "output_type": "stream",
     "text": [
      "Training neural network. Epochs trained:  55\r"
     ]
    },
    {
     "name": "stdout",
     "output_type": "stream",
     "text": [
      "Training neural network. Epochs trained:  56\r"
     ]
    },
    {
     "name": "stdout",
     "output_type": "stream",
     "text": [
      "Training neural network. Epochs trained:  57\r"
     ]
    },
    {
     "name": "stdout",
     "output_type": "stream",
     "text": [
      "Training neural network. Epochs trained:  58\r"
     ]
    },
    {
     "name": "stdout",
     "output_type": "stream",
     "text": [
      "Training neural network. Epochs trained:  59\r"
     ]
    },
    {
     "name": "stdout",
     "output_type": "stream",
     "text": [
      "Training neural network. Epochs trained:  60\r"
     ]
    },
    {
     "name": "stdout",
     "output_type": "stream",
     "text": [
      "Training neural network. Epochs trained:  61\r"
     ]
    },
    {
     "name": "stdout",
     "output_type": "stream",
     "text": [
      "Training neural network. Epochs trained:  62\r"
     ]
    },
    {
     "name": "stdout",
     "output_type": "stream",
     "text": [
      "Training neural network. Epochs trained:  63\r"
     ]
    },
    {
     "name": "stdout",
     "output_type": "stream",
     "text": [
      "Training neural network. Epochs trained:  64\r"
     ]
    },
    {
     "name": "stdout",
     "output_type": "stream",
     "text": [
      "Training neural network. Epochs trained:  65\r"
     ]
    },
    {
     "name": "stdout",
     "output_type": "stream",
     "text": [
      "Training neural network. Epochs trained:  66\r"
     ]
    },
    {
     "name": "stdout",
     "output_type": "stream",
     "text": [
      "Training neural network. Epochs trained:  67\r"
     ]
    },
    {
     "name": "stdout",
     "output_type": "stream",
     "text": [
      "Training neural network. Epochs trained:  68\r"
     ]
    },
    {
     "name": "stdout",
     "output_type": "stream",
     "text": [
      "Training neural network. Epochs trained:  69\r"
     ]
    },
    {
     "name": "stdout",
     "output_type": "stream",
     "text": [
      "Training neural network. Epochs trained:  70\r"
     ]
    },
    {
     "name": "stdout",
     "output_type": "stream",
     "text": [
      "Training neural network. Epochs trained:  71\r"
     ]
    },
    {
     "name": "stdout",
     "output_type": "stream",
     "text": [
      "Training neural network. Epochs trained:  72\r"
     ]
    },
    {
     "name": "stdout",
     "output_type": "stream",
     "text": [
      "Training neural network. Epochs trained:  73\r"
     ]
    },
    {
     "name": "stdout",
     "output_type": "stream",
     "text": [
      "Training neural network. Epochs trained:  74\r"
     ]
    },
    {
     "name": "stdout",
     "output_type": "stream",
     "text": [
      "Training neural network. Epochs trained:  75\r"
     ]
    },
    {
     "name": "stdout",
     "output_type": "stream",
     "text": [
      "Training neural network. Epochs trained:  76\r"
     ]
    },
    {
     "name": "stdout",
     "output_type": "stream",
     "text": [
      "Training neural network. Epochs trained:  77\r"
     ]
    },
    {
     "name": "stdout",
     "output_type": "stream",
     "text": [
      "Training neural network. Epochs trained:  78\r"
     ]
    },
    {
     "name": "stdout",
     "output_type": "stream",
     "text": [
      "Training neural network. Epochs trained:  79\r"
     ]
    },
    {
     "name": "stdout",
     "output_type": "stream",
     "text": [
      "Training neural network. Epochs trained:  80\r"
     ]
    },
    {
     "name": "stdout",
     "output_type": "stream",
     "text": [
      "Training neural network. Epochs trained:  81\r"
     ]
    },
    {
     "name": "stdout",
     "output_type": "stream",
     "text": [
      "Training neural network. Epochs trained:  82\r"
     ]
    },
    {
     "name": "stdout",
     "output_type": "stream",
     "text": [
      "Training neural network. Epochs trained:  83\r"
     ]
    },
    {
     "name": "stdout",
     "output_type": "stream",
     "text": [
      "Training neural network. Epochs trained:  84\r"
     ]
    },
    {
     "name": "stdout",
     "output_type": "stream",
     "text": [
      "Training neural network. Epochs trained:  85\r"
     ]
    },
    {
     "name": "stdout",
     "output_type": "stream",
     "text": [
      "Training neural network. Epochs trained:  86\r"
     ]
    },
    {
     "name": "stdout",
     "output_type": "stream",
     "text": [
      "Training neural network. Epochs trained:  87\r"
     ]
    },
    {
     "name": "stdout",
     "output_type": "stream",
     "text": [
      "Training neural network. Epochs trained:  88\r"
     ]
    },
    {
     "name": "stdout",
     "output_type": "stream",
     "text": [
      "Training neural network. Epochs trained:  89\r"
     ]
    },
    {
     "name": "stdout",
     "output_type": "stream",
     "text": [
      "Training neural network. Epochs trained:  90\r"
     ]
    },
    {
     "name": "stdout",
     "output_type": "stream",
     "text": [
      "Training neural network. Epochs trained:  91\r"
     ]
    },
    {
     "name": "stdout",
     "output_type": "stream",
     "text": [
      "Training neural network. Epochs trained:  92\r"
     ]
    },
    {
     "name": "stdout",
     "output_type": "stream",
     "text": [
      "Training neural network. Epochs trained:  93\r"
     ]
    },
    {
     "name": "stdout",
     "output_type": "stream",
     "text": [
      "Training neural network. Epochs trained:  94\r"
     ]
    },
    {
     "name": "stdout",
     "output_type": "stream",
     "text": [
      "Training neural network. Epochs trained:  95\r"
     ]
    },
    {
     "name": "stdout",
     "output_type": "stream",
     "text": [
      "Training neural network. Epochs trained:  96\r"
     ]
    },
    {
     "name": "stdout",
     "output_type": "stream",
     "text": [
      "Training neural network. Epochs trained:  97\r"
     ]
    },
    {
     "name": "stdout",
     "output_type": "stream",
     "text": [
      "Training neural network. Epochs trained:  98\r"
     ]
    },
    {
     "name": "stdout",
     "output_type": "stream",
     "text": [
      "Training neural network. Epochs trained:  99\r"
     ]
    },
    {
     "name": "stdout",
     "output_type": "stream",
     "text": [
      "Training neural network. Epochs trained:  100\r"
     ]
    },
    {
     "name": "stdout",
     "output_type": "stream",
     "text": [
      "Training neural network. Epochs trained:  101\r"
     ]
    },
    {
     "name": "stdout",
     "output_type": "stream",
     "text": [
      "Training neural network. Epochs trained:  102\r"
     ]
    },
    {
     "name": "stdout",
     "output_type": "stream",
     "text": [
      "Training neural network. Epochs trained:  103\r"
     ]
    },
    {
     "name": "stdout",
     "output_type": "stream",
     "text": [
      "Training neural network. Epochs trained:  104\r"
     ]
    },
    {
     "name": "stdout",
     "output_type": "stream",
     "text": [
      "Training neural network. Epochs trained:  105\r"
     ]
    },
    {
     "name": "stdout",
     "output_type": "stream",
     "text": [
      "Training neural network. Epochs trained:  106\r"
     ]
    },
    {
     "name": "stdout",
     "output_type": "stream",
     "text": [
      "Training neural network. Epochs trained:  107\r"
     ]
    },
    {
     "name": "stdout",
     "output_type": "stream",
     "text": [
      "Training neural network. Epochs trained:  108\r"
     ]
    },
    {
     "name": "stdout",
     "output_type": "stream",
     "text": [
      "Training neural network. Epochs trained:  109\r"
     ]
    },
    {
     "name": "stdout",
     "output_type": "stream",
     "text": [
      "Training neural network. Epochs trained:  110\r"
     ]
    },
    {
     "name": "stdout",
     "output_type": "stream",
     "text": [
      "Training neural network. Epochs trained:  111\r"
     ]
    },
    {
     "name": "stdout",
     "output_type": "stream",
     "text": [
      "Training neural network. Epochs trained:  112\r"
     ]
    },
    {
     "name": "stdout",
     "output_type": "stream",
     "text": [
      "Training neural network. Epochs trained:  113\r"
     ]
    },
    {
     "name": "stdout",
     "output_type": "stream",
     "text": [
      "Training neural network. Epochs trained:  114\r"
     ]
    },
    {
     "name": "stdout",
     "output_type": "stream",
     "text": [
      "Training neural network. Epochs trained:  115\r"
     ]
    },
    {
     "name": "stdout",
     "output_type": "stream",
     "text": [
      "Training neural network. Epochs trained:  116\r"
     ]
    },
    {
     "name": "stdout",
     "output_type": "stream",
     "text": [
      "Training neural network. Epochs trained:  117\r"
     ]
    },
    {
     "name": "stdout",
     "output_type": "stream",
     "text": [
      "Training neural network. Epochs trained:  118\r"
     ]
    },
    {
     "name": "stdout",
     "output_type": "stream",
     "text": [
      "Training neural network. Epochs trained:  119\r"
     ]
    },
    {
     "name": "stdout",
     "output_type": "stream",
     "text": [
      "Training neural network. Epochs trained:  120\r"
     ]
    },
    {
     "name": "stdout",
     "output_type": "stream",
     "text": [
      "Training neural network. Epochs trained:  121\r"
     ]
    },
    {
     "name": "stdout",
     "output_type": "stream",
     "text": [
      "Training neural network. Epochs trained:  122\r"
     ]
    },
    {
     "name": "stdout",
     "output_type": "stream",
     "text": [
      "Training neural network. Epochs trained:  123\r"
     ]
    },
    {
     "name": "stdout",
     "output_type": "stream",
     "text": [
      "Training neural network. Epochs trained:  124\r"
     ]
    },
    {
     "name": "stdout",
     "output_type": "stream",
     "text": [
      "Training neural network. Epochs trained:  125\r"
     ]
    },
    {
     "name": "stdout",
     "output_type": "stream",
     "text": [
      "Training neural network. Epochs trained:  126\r"
     ]
    },
    {
     "name": "stdout",
     "output_type": "stream",
     "text": [
      "Training neural network. Epochs trained:  127\r"
     ]
    },
    {
     "name": "stdout",
     "output_type": "stream",
     "text": [
      "Training neural network. Epochs trained:  128\r"
     ]
    },
    {
     "name": "stdout",
     "output_type": "stream",
     "text": [
      "Training neural network. Epochs trained:  129\r"
     ]
    },
    {
     "name": "stdout",
     "output_type": "stream",
     "text": [
      "Training neural network. Epochs trained:  130\r"
     ]
    },
    {
     "name": "stdout",
     "output_type": "stream",
     "text": [
      "Training neural network. Epochs trained:  131\r"
     ]
    },
    {
     "name": "stdout",
     "output_type": "stream",
     "text": [
      "Training neural network. Epochs trained:  132\r"
     ]
    },
    {
     "name": "stdout",
     "output_type": "stream",
     "text": [
      "Training neural network. Epochs trained:  133\r"
     ]
    },
    {
     "name": "stdout",
     "output_type": "stream",
     "text": [
      "Training neural network. Epochs trained:  134\r"
     ]
    },
    {
     "name": "stdout",
     "output_type": "stream",
     "text": [
      "Training neural network. Epochs trained:  135\r"
     ]
    },
    {
     "name": "stdout",
     "output_type": "stream",
     "text": [
      "Training neural network. Epochs trained:  136\r"
     ]
    },
    {
     "name": "stdout",
     "output_type": "stream",
     "text": [
      "Training neural network. Epochs trained:  137\r"
     ]
    },
    {
     "name": "stdout",
     "output_type": "stream",
     "text": [
      "Training neural network. Epochs trained:  138\r"
     ]
    },
    {
     "name": "stdout",
     "output_type": "stream",
     "text": [
      "Training neural network. Epochs trained:  139\r"
     ]
    },
    {
     "name": "stdout",
     "output_type": "stream",
     "text": [
      "Training neural network. Epochs trained:  140\r"
     ]
    },
    {
     "name": "stdout",
     "output_type": "stream",
     "text": [
      "Training neural network. Epochs trained:  141\r"
     ]
    },
    {
     "name": "stdout",
     "output_type": "stream",
     "text": [
      "Training neural network. Epochs trained:  142\r"
     ]
    },
    {
     "name": "stdout",
     "output_type": "stream",
     "text": [
      "Training neural network. Epochs trained:  143\r",
      "Neural network successfully converged after 143 epochs.\n"
     ]
    }
   ],
   "source": [
    "#let's try again and increase the number of training runs for SBI by 30x\n",
    "\n",
    "theta, x = simulate_for_sbi(simulator, proposal=prior, num_simulations=15000)\n",
    "inference = inference.append_simulations(theta, x)\n",
    "density_estimator = inference.train()\n"
   ]
  },
  {
   "cell_type": "code",
   "execution_count": 12,
   "id": "commercial-identification",
   "metadata": {
    "collapsed": false
   },
   "outputs": [],
   "source": [
    "posterior = inference.build_posterior(density_estimator)\n"
   ]
  },
  {
   "cell_type": "code",
   "execution_count": 13,
   "id": "independent-helicopter",
   "metadata": {
    "collapsed": false
   },
   "outputs": [
    {
     "data": {
      "application/vnd.jupyter.widget-view+json": {
       "model_id": "1bc5e504be2240f081d5af4cff93044c",
       "version_major": 2,
       "version_minor": 0
      },
      "text/plain": [
       "Drawing 10000 posterior samples:   0%|          | 0/10000 [00:00<?, ?it/s]"
      ]
     },
     "metadata": {},
     "output_type": "display_data"
    },
    {
     "data": {
      "image/png": "[encoded data removed]",
      "text/plain": [
       "<Figure size 360x360 with 9 Axes>"
      ]
     },
     "metadata": {},
     "output_type": "display_data"
    }
   ],
   "source": [
    "exp_theta = prior.sample((128,))\n",
    "x_o = linear_gaussian(exp_theta)\n",
    "posterior_samples = posterior.sample((10000,), x=x_o[0, ...])\n",
    "\n",
    "# plot posterior samples\n",
    "_ = analysis.pairplot(posterior_samples, limits=[[-2.1,2.1],[-2.1,2.1],[-2.1,2.1]], \n",
    "                   figsize=(5,5))"
   ]
  },
  {
   "cell_type": "code",
   "execution_count": 14,
   "id": "short-humidity",
   "metadata": {
    "collapsed": false
   },
   "outputs": [],
   "source": [
    "# n_trials = 1024\n",
    "# n_draws = 8*1024\n",
    "\n",
    "nranks = sbc_ranks(prior, posterior, linear_gaussian, n_trials, n_draws)"
   ]
  },
  {
   "cell_type": "code",
   "execution_count": 15,
   "id": "previous-password",
   "metadata": {
    "collapsed": false
   },
   "outputs": [
    {
     "name": "stdout",
     "output_type": "stream",
     "text": [
      "preparing 2x2 figure\n",
      "index      min     mean      std      max\n",
      " 0/ 3   1.0000 4238.2637 2317.2850 8190.0000\n",
      " 1/ 3  13.0000 3987.5762 2257.0593 8181.0000\n",
      " 2/ 3   7.0000 3937.0000 2409.5840 8191.0000\n"
     ]
    },
    {
     "data": {
      "image/png": "[encoded data removed]",
      "text/plain": [
       "<Figure size 1152x864 with 4 Axes>"
      ]
     },
     "metadata": {},
     "output_type": "display_data"
    }
   ],
   "source": [
    "f, axs = theta_distributions(nranks, ncols =2, n_bins = 16, hcolor='r' )\n",
    "f.savefig(\"sbi_linear_gaussian_dataset_3p_sbc_ranks_15ksamples.svg\")"
   ]
  },
  {
   "cell_type": "code",
   "execution_count": null,
   "id": "exciting-aurora",
   "metadata": {
    "collapsed": false
   },
   "outputs": [],
   "source": []
  }
 ],
 "metadata": {
  "kernelspec": {
   "argv": [
    "/home/steinbac/software/miniconda/envs/ray_ui-cpu/bin/python",
    "-m",
    "ipykernel_launcher",
    "-f",
    "{connection_file}"
   ],
   "display_name": "ray_ui-cpu-kernel",
   "env": null,
   "interrupt_mode": "signal",
   "language": "python",
   "metadata": null,
   "name": "ray_ui-cpu-kernel"
  },
  "name": "sbc_linear_gaussian_sbi.ipynb"
 },
 "nbformat": 4,
 "nbformat_minor": 5
}
