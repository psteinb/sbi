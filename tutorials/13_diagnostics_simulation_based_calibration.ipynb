{
 "cells": [
  {
   "cell_type": "markdown",
   "id": "0b29e299-a762-49ff-be34-94ec82652f0c",
   "metadata": {},
   "source": [
    "# Simulation-based Calibration in SBI\n",
    "\n",
    "After a density estimator has been trained with simulated data to obtain a posterior, the estimator should be made subject to several **diagnostic tests**. This needs to be performed before being used for inference given the actual observed data. _Posterior Predictive Checks_ (see [previous tutorial](https://sbi-dev.github.io/sbi/tutorial/12_diagnostics_posterior_predictive_check/)) provide one way to \"critique\" a trained estimator based on its predictive performance. Another important approach to such diagnostics is simulation-based calibration as developed by [Cook et al, 2006](https://www.tandfonline.com/doi/abs/10.1198/106186006X136976) and [Talts et al, 2018](https://arxiv.org/abs/1804.06788). This tutorial will demonstrate and teach you this technique with sbi.\n",
    "\n",
    "**Simulation-based calibration** (SBC) provides a (qualitative) view and a quantitive measure to check, whether the variances of the posterior are balanced, i.e., neither over-confident nor under-confident. As such, SBC can be viewed as a necessary condition (but not sufficient) for a valid inference algorithm: If SBC checks fail, this tells you that your inference is invalid. If SBC checks pass, this is no guarantee that the posterior estimation is working.\n"
   ]
  },
  {
   "cell_type": "markdown",
   "id": "7ce235c3-9c70-4d10-845f-70add68576b5",
   "metadata": {},
   "source": [
    "## In a nutshell\n",
    "\n",
    "To run SBC,\n",
    "\n",
    "1. we sample `theta_o_i` values from the prior of the problem at hand\n",
    "2. we simulate \"observations\" from these parameters: `x_o_i = simulator(theta_o_i)`\n",
    "3. we perform inference given each observation `x_o_i`.\n",
    "\n",
    "This produces a separate posterior $p_i(\\theta | x_{o,i})$ for each of `x_o_i`. The key step for SBC is to generate a set of posterior samples $\\{\\theta\\}_i$ from each posterior. We call this `theta_i_s`, referring to `s` samples from posterior $p_i(\\theta | x_{o,i})$). Next, we rank the corresponding `theta_o_i` under this set of samples. A rank is computed by counting how many samples `theta_i_s` fall below their corresponding `theta_o_i` value (see section 4.1 in Talts et al.). These ranks are then used to perform the SBC check itself.\n",
    "\n",
    "### Key ideas behind SBC\n",
    "\n",
    "The core idea behind SBC is two fold:\n",
    "\n",
    "- SBC ranks of ground truth parameters under the inferred posterior samples follow a uniform distribution.  \n",
    "  (If the SBC ranks are not uniformly distributed, the posterior is not well calibrated.)\n",
    "\n",
    "- samples from the data averaged posterior (ensemble of randomly chosen posterior samples given multiple distinct observations `x_o`) are distributed according to the prior\n",
    "\n",
    "### What can SBC diagnose?\n",
    "\n",
    "**SBC can inform us whether we are not wrong.** However, it cannot tell us whether we are right, i.e., SBC checks a necessary condition. For example, imagine you run SBC using the prior as a posterior. The ranks would be perfectly uniform. But the inference would be wrong as this scenario would only occur if the posterior is uninformative.\n",
    "\n",
    "**The Posterior Predictive Checks (see [tutorial 12](https://sbi-dev.github.io/sbi/tutorial/12_diagnostics_posterior_predictive_check/)) can be seen as the complementary sufficient check** for the posterior (only as a methaphor, no theoretical guarantees here). Using the prior as a posterior and then doing predictive checks would clearly show that inference failed.\n",
    "\n",
    "To summarize, SBC can:\n",
    "\n",
    "- tell us whether the SBI method applied to the problem at hand produces posteriors that have well-calibrated uncertainties,\n",
    "- and if the posteriors have uncalibrated uncertainties, SBC surfaces what kind of systematic bias is present: negative or positive bias (shift in the mean of the predictions) or over- or underdispersion (too large or too small variance)\n"
   ]
  },
  {
   "cell_type": "markdown",
   "id": "53f22ccc-e2bc-4a70-a422-e0cac6944648",
   "metadata": {},
   "source": [
    "## A healthy posterior\n",
    "\n",
    "Let's take the gaussian linear simulator from the previous tutorials and run inference with NPE on it.\n",
    "\n",
    "**Note:** SBC requires running inference several times. Using SBC with amortized methods like NPE is hence a justified endavour: repeated inference is cheap and SBC can be performed with little runtime penalty. This does not hold for sequential methods or anything relying on MCMC or VI. Should you require methods of MCMC or VI, consider exploiting parallelization and set `num_workers>1` in the sbc functions.\n"
   ]
  },
  {
   "cell_type": "code",
   "execution_count": null,
   "id": "b79cd0b8-8161-47b9-a008-510ea1b857ea",
   "metadata": {},
   "outputs": [],
   "source": [
    "import torch\n",
    "from torch import eye, ones\n",
    "from torch.distributions import MultivariateNormal\n",
    "\n",
    "from sbi.diagnostics import check_sbc, run_sbc\n",
    "from sbi.analysis.plot import sbc_rank_plot\n",
    "from sbi.inference import SNPE, simulate_for_sbi"
   ]
  },
  {
   "cell_type": "code",
   "execution_count": null,
   "id": "ae48dbd9-084c-4753-8feb-731a7f99075d",
   "metadata": {},
   "outputs": [],
   "source": [
    "num_dim = 2\n",
    "num_simulations = 10_000\n",
    "\n",
    "prior_mean = ones(num_dim)\n",
    "prior_cov = 2 * eye(num_dim)\n",
    "prior = MultivariateNormal(\n",
    "    loc=prior_mean, covariance_matrix=prior_cov, validate_args=False\n",
    ")"
   ]
  },
  {
   "cell_type": "markdown",
   "id": "4efea93e-d93b-47ab-a1ef-487ee06ec2e0",
   "metadata": {},
   "source": [
    "## An ideal case\n",
    "\n",
    "To explore SBC, we make our life easy and assume that we deal with a problem where the likelihood is modelled by an identity mapping and a bit of smear. But to start, we only use an almost vanishing smear of `0.01`.\n"
   ]
  },
  {
   "cell_type": "code",
   "execution_count": null,
   "id": "a8907ec4-8439-41aa-af69-c96c295748ea",
   "metadata": {},
   "outputs": [
    {
     "data": {
      "application/vnd.jupyter.widget-view+json": {
       "model_id": "703b4f8e26d44e4e9cff115c3c6c299a",
       "version_major": 2,
       "version_minor": 0
      },
      "text/plain": [
       "Running 10000 simulations.:   0%|          | 0/10000 [00:00<?, ?it/s]"
      ]
     },
     "metadata": {},
     "output_type": "display_data"
    }
   ],
   "source": [
    "default_likelihood_loc = 0.0  # let's start with 0 shift\n",
    "default_likelihood_scale = 0.01  # let's smear theta only by a little bit\n",
    "\n",
    "\n",
    "def simulator(theta, loc=default_likelihood_loc, scale=default_likelihood_scale):\n",
    "    \"\"\"linear gaussian inspired by sbibm\n",
    "    https://github.com/sbi-benchmark/sbibm/blob/15f068a08a938383116ffd92b92de50c580810a3/sbibm/tasks/gaussian_linear/task.py#L74\n",
    "    \"\"\"\n",
    "    num_dim = theta.shape[-1]\n",
    "    cov_ = scale * eye(num_dim)  # always positively semi-definite\n",
    "\n",
    "    # using validate_args=False disables sanity checks on `covariance_matrix`\n",
    "    # for the sake of speed\n",
    "    value = MultivariateNormal(\n",
    "        loc=(theta + loc), covariance_matrix=cov_, validate_args=False\n",
    "    ).sample()\n",
    "    return value\n",
    "\n",
    "\n",
    "_ = torch.manual_seed(3)\n",
    "theta, x = simulate_for_sbi(simulator, prior, num_simulations)"
   ]
  },
  {
   "cell_type": "code",
   "execution_count": null,
   "id": "73b47ac1-2588-44dd-ba45-9616dee3caab",
   "metadata": {},
   "outputs": [
    {
     "name": "stdout",
     "output_type": "stream",
     "text": [
      "theta: [[1.9352932 1.3774877]]\n",
      "x    : [[1.941461  1.4396194]]\n"
     ]
    }
   ],
   "source": [
    "_ = torch.manual_seed(1)\n",
    "\n",
    "# let's sample an observation from the parameters we\n",
    "# just produced\n",
    "theta_o = prior.sample((1,))\n",
    "x_o = simulator(theta_o)\n",
    "print(\"theta:\", theta_o.numpy())\n",
    "print(\"x    :\", x_o.numpy())"
   ]
  },
  {
   "cell_type": "code",
   "execution_count": null,
   "id": "3254e3d4-e5f1-4e1f-bb1c-fa9e9b3adcaf",
   "metadata": {},
   "outputs": [
    {
     "name": "stdout",
     "output_type": "stream",
     "text": [
      "\r",
      " Training neural network. Epochs trained: 1"
     ]
    },
    {
     "name": "stdout",
     "output_type": "stream",
     "text": [
      "\r",
      " Training neural network. Epochs trained: 2"
     ]
    },
    {
     "name": "stdout",
     "output_type": "stream",
     "text": [
      "\r",
      " Training neural network. Epochs trained: 3"
     ]
    },
    {
     "name": "stdout",
     "output_type": "stream",
     "text": [
      "\r",
      " Training neural network. Epochs trained: 4"
     ]
    },
    {
     "name": "stdout",
     "output_type": "stream",
     "text": [
      "\r",
      " Training neural network. Epochs trained: 5"
     ]
    },
    {
     "name": "stdout",
     "output_type": "stream",
     "text": [
      "\r",
      " Training neural network. Epochs trained: 6"
     ]
    },
    {
     "name": "stdout",
     "output_type": "stream",
     "text": [
      "\r",
      " Training neural network. Epochs trained: 7"
     ]
    },
    {
     "name": "stdout",
     "output_type": "stream",
     "text": [
      "\r",
      " Training neural network. Epochs trained: 8"
     ]
    },
    {
     "name": "stdout",
     "output_type": "stream",
     "text": [
      "\r",
      " Training neural network. Epochs trained: 9"
     ]
    },
    {
     "name": "stdout",
     "output_type": "stream",
     "text": [
      "\r",
      " Training neural network. Epochs trained: 10"
     ]
    },
    {
     "name": "stdout",
     "output_type": "stream",
     "text": [
      "\r",
      " Training neural network. Epochs trained: 11"
     ]
    },
    {
     "name": "stdout",
     "output_type": "stream",
     "text": [
      "\r",
      " Training neural network. Epochs trained: 12"
     ]
    },
    {
     "name": "stdout",
     "output_type": "stream",
     "text": [
      "\r",
      " Training neural network. Epochs trained: 13"
     ]
    },
    {
     "name": "stdout",
     "output_type": "stream",
     "text": [
      "\r",
      " Training neural network. Epochs trained: 14"
     ]
    },
    {
     "name": "stdout",
     "output_type": "stream",
     "text": [
      "\r",
      " Training neural network. Epochs trained: 15"
     ]
    },
    {
     "name": "stdout",
     "output_type": "stream",
     "text": [
      "\r",
      " Training neural network. Epochs trained: 16"
     ]
    },
    {
     "name": "stdout",
     "output_type": "stream",
     "text": [
      "\r",
      " Training neural network. Epochs trained: 17"
     ]
    },
    {
     "name": "stdout",
     "output_type": "stream",
     "text": [
      "\r",
      " Training neural network. Epochs trained: 18"
     ]
    },
    {
     "name": "stdout",
     "output_type": "stream",
     "text": [
      "\r",
      " Training neural network. Epochs trained: 19"
     ]
    },
    {
     "name": "stdout",
     "output_type": "stream",
     "text": [
      "\r",
      " Training neural network. Epochs trained: 20"
     ]
    },
    {
     "name": "stdout",
     "output_type": "stream",
     "text": [
      "\r",
      " Training neural network. Epochs trained: 21"
     ]
    },
    {
     "name": "stdout",
     "output_type": "stream",
     "text": [
      "\r",
      " Training neural network. Epochs trained: 22"
     ]
    },
    {
     "name": "stdout",
     "output_type": "stream",
     "text": [
      "\r",
      " Training neural network. Epochs trained: 23"
     ]
    },
    {
     "name": "stdout",
     "output_type": "stream",
     "text": [
      "\r",
      " Training neural network. Epochs trained: 24"
     ]
    },
    {
     "name": "stdout",
     "output_type": "stream",
     "text": [
      "\r",
      " Training neural network. Epochs trained: 25"
     ]
    },
    {
     "name": "stdout",
     "output_type": "stream",
     "text": [
      "\r",
      " Training neural network. Epochs trained: 26"
     ]
    },
    {
     "name": "stdout",
     "output_type": "stream",
     "text": [
      "\r",
      " Training neural network. Epochs trained: 27"
     ]
    },
    {
     "name": "stdout",
     "output_type": "stream",
     "text": [
      "\r",
      " Training neural network. Epochs trained: 28"
     ]
    },
    {
     "name": "stdout",
     "output_type": "stream",
     "text": [
      "\r",
      " Training neural network. Epochs trained: 29"
     ]
    },
    {
     "name": "stdout",
     "output_type": "stream",
     "text": [
      "\r",
      " Training neural network. Epochs trained: 30"
     ]
    },
    {
     "name": "stdout",
     "output_type": "stream",
     "text": [
      "\r",
      " Training neural network. Epochs trained: 31"
     ]
    },
    {
     "name": "stdout",
     "output_type": "stream",
     "text": [
      "\r",
      " Training neural network. Epochs trained: 32"
     ]
    },
    {
     "name": "stdout",
     "output_type": "stream",
     "text": [
      "\r",
      " Training neural network. Epochs trained: 33"
     ]
    },
    {
     "name": "stdout",
     "output_type": "stream",
     "text": [
      "\r",
      " Training neural network. Epochs trained: 34"
     ]
    },
    {
     "name": "stdout",
     "output_type": "stream",
     "text": [
      "\r",
      " Training neural network. Epochs trained: 35"
     ]
    },
    {
     "name": "stdout",
     "output_type": "stream",
     "text": [
      "\r",
      " Training neural network. Epochs trained: 36"
     ]
    },
    {
     "name": "stdout",
     "output_type": "stream",
     "text": [
      "\r",
      " Training neural network. Epochs trained: 37"
     ]
    },
    {
     "name": "stdout",
     "output_type": "stream",
     "text": [
      "\r",
      " Training neural network. Epochs trained: 38"
     ]
    },
    {
     "name": "stdout",
     "output_type": "stream",
     "text": [
      "\r",
      " Training neural network. Epochs trained: 39"
     ]
    },
    {
     "name": "stdout",
     "output_type": "stream",
     "text": [
      "\r",
      " Training neural network. Epochs trained: 40"
     ]
    },
    {
     "name": "stdout",
     "output_type": "stream",
     "text": [
      "\r",
      " Training neural network. Epochs trained: 41"
     ]
    },
    {
     "name": "stdout",
     "output_type": "stream",
     "text": [
      "\r",
      " Training neural network. Epochs trained: 42"
     ]
    },
    {
     "name": "stdout",
     "output_type": "stream",
     "text": [
      "\r",
      " Training neural network. Epochs trained: 43"
     ]
    },
    {
     "name": "stdout",
     "output_type": "stream",
     "text": [
      "\r",
      " Training neural network. Epochs trained: 44"
     ]
    },
    {
     "name": "stdout",
     "output_type": "stream",
     "text": [
      "\r",
      " Training neural network. Epochs trained: 45"
     ]
    },
    {
     "name": "stdout",
     "output_type": "stream",
     "text": [
      "\r",
      " Training neural network. Epochs trained: 46"
     ]
    },
    {
     "name": "stdout",
     "output_type": "stream",
     "text": [
      "\r",
      " Training neural network. Epochs trained: 47"
     ]
    },
    {
     "name": "stdout",
     "output_type": "stream",
     "text": [
      "\r",
      " Training neural network. Epochs trained: 48"
     ]
    },
    {
     "name": "stdout",
     "output_type": "stream",
     "text": [
      "\r",
      " Training neural network. Epochs trained: 49"
     ]
    },
    {
     "name": "stdout",
     "output_type": "stream",
     "text": [
      "\r",
      " Training neural network. Epochs trained: 50"
     ]
    },
    {
     "name": "stdout",
     "output_type": "stream",
     "text": [
      "\r",
      " Training neural network. Epochs trained: 51"
     ]
    },
    {
     "name": "stdout",
     "output_type": "stream",
     "text": [
      "\r",
      " Training neural network. Epochs trained: 52"
     ]
    },
    {
     "name": "stdout",
     "output_type": "stream",
     "text": [
      "\r",
      " Training neural network. Epochs trained: 53"
     ]
    },
    {
     "name": "stdout",
     "output_type": "stream",
     "text": [
      "\r",
      " Training neural network. Epochs trained: 54"
     ]
    },
    {
     "name": "stdout",
     "output_type": "stream",
     "text": [
      "\r",
      " Training neural network. Epochs trained: 55"
     ]
    },
    {
     "name": "stdout",
     "output_type": "stream",
     "text": [
      "\r",
      " Training neural network. Epochs trained: 56"
     ]
    },
    {
     "name": "stdout",
     "output_type": "stream",
     "text": [
      "\r",
      " Training neural network. Epochs trained: 57\r",
      " Neural network successfully converged after 57 epochs."
     ]
    }
   ],
   "source": [
    "_ = torch.manual_seed(2)\n",
    "\n",
    "# we use a mdn model to have a fast turnaround with training the NPE\n",
    "inferer = SNPE(prior, density_estimator=\"mdn\")\n",
    "# append simulations and run training.\n",
    "inferer.append_simulations(theta, x).train();"
   ]
  },
  {
   "cell_type": "code",
   "execution_count": null,
   "id": "0d6cf039-1dd8-44f8-bfed-3a3e027a84b4",
   "metadata": {},
   "outputs": [
    {
     "data": {
      "application/vnd.jupyter.widget-view+json": {
       "model_id": "4d5abc95afb943589b9d34cca11aa3f5",
       "version_major": 2,
       "version_minor": 0
      },
      "text/plain": [
       "Drawing 15000 posterior samples:   0%|          | 0/15000 [00:00<?, ?it/s]"
      ]
     },
     "metadata": {},
     "output_type": "display_data"
    }
   ],
   "source": [
    "posterior = inferer.build_posterior()\n",
    "posterior_samples = posterior.sample((15_000,), x=x_o)\n",
    "# Generate predictive samples by simulating from posterior samples.\n",
    "posterior_predictive_samples = simulator(posterior_samples)"
   ]
  },
  {
   "cell_type": "code",
   "execution_count": null,
   "id": "f5e79734-08e8-4818-8402-798d5d01cbef",
   "metadata": {},
   "outputs": [
    {
     "data": {
      "image/png": "[encoded data removed]",
      "text/plain": [
       "<Figure size 500x500 with 4 Axes>"
      ]
     },
     "metadata": {},
     "output_type": "display_data"
    }
   ],
   "source": [
    "# let's do some posterior predictive checks to see if the\n",
    "# posterior predictive samples cluster aournd the observation `x_o`.\n",
    "from sbi.analysis import pairplot\n",
    "\n",
    "fig, ax = pairplot(\n",
    "    samples=posterior_predictive_samples,\n",
    "    points=x_o,\n",
    "    limits=list(zip(x_o.flatten() - 1.0, x_o.flatten() + 1.0)),\n",
    "    offdiag=\"kde\",\n",
    "    diag=\"kde\",\n",
    "    figsize=(5, 5),\n",
    "    labels=[rf\"$x_{d}$\" for d in range(3)],\n",
    ")"
   ]
  },
  {
   "cell_type": "markdown",
   "id": "ff831073-5d73-4301-8b50-6a853d0a3acd",
   "metadata": {},
   "source": [
    "The observation `x_o` falls into the support of the predicted posterior samples, i.e. it is within `simulator(posterior_samples)`. Given the simulator, this is indicative that our posterior estimates the data well.\n"
   ]
  },
  {
   "cell_type": "markdown",
   "id": "20763237-c51c-443f-9063-979c2b3e1a24",
   "metadata": {},
   "source": [
    "### Running SBC\n",
    "\n",
    "We have a working and trained posterior at this point! Hurray! Let's look at the SBC metrics now.\n"
   ]
  },
  {
   "cell_type": "code",
   "execution_count": null,
   "id": "a81aee59-5cc8-497f-8a2c-5a7a0212df97",
   "metadata": {},
   "outputs": [],
   "source": [
    "num_sbc_runs = 1_000  # choose a number of sbc runs, should be ~100s or ideally 1000\n",
    "# generate ground truth parameters and corresponding simulated observations for SBC.\n",
    "thetas = prior.sample((num_sbc_runs,))\n",
    "xs = simulator(thetas)"
   ]
  },
  {
   "cell_type": "markdown",
   "id": "0de8cfe9-e7e9-445e-aced-346af8eac3cd",
   "metadata": {},
   "source": [
    "SBC is implemented in `sbi` for your use on any `sbi` posterior. To run it, we only need to call `run_sbc` with appropriate parameters.\n",
    "\n",
    "**Note**: For amortized neural posteriors (like in this tutorial), execution of `sbc` is expected to be fast. For posteriors that conduct inference with MCMC and hence are slow, `run_sbc` exposes the use of multiple internal parallel workers to the user. To use this feature, add `num_workers = 2` to the parameters for use of two workers. See the API documentation for details.\n"
   ]
  },
  {
   "cell_type": "code",
   "execution_count": null,
   "id": "50930e69-f837-4bb6-8637-a1ef70cdef11",
   "metadata": {},
   "outputs": [
    {
     "data": {
      "application/vnd.jupyter.widget-view+json": {
       "model_id": "b209c906debb4526835c726edc67b972",
       "version_major": 2,
       "version_minor": 0
      },
      "text/plain": [
       "Running 1000 sbc samples.:   0%|          | 0/1000 [00:00<?, ?it/s]"
      ]
     },
     "metadata": {},
     "output_type": "display_data"
    }
   ],
   "source": [
    "# run SBC: for each inference we draw 1000 posterior samples.\n",
    "num_posterior_samples = 1_000\n",
    "ranks, dap_samples = run_sbc(\n",
    "    thetas, xs, posterior, num_posterior_samples=num_posterior_samples\n",
    ")"
   ]
  },
  {
   "cell_type": "markdown",
   "id": "95b19252-b39b-45d8-87e2-52d019bc974b",
   "metadata": {},
   "source": [
    "`sbi` establishes two methods to do simulation-based calibration:\n",
    "\n",
    "- metrics to compare the sbc ranks with a uniform distribution\n",
    "- control plots for visual inspections like fig. 1 or 2 in [Talts et al, 2018](https://arxiv.org/abs/1804.06788)\n",
    "\n",
    "The `ranks` count is performed per dimension of `theta`, i.e. on the 1-D marginal posterior estimates. According to theory, the distribution of these ranks (per dimension of `theta`) should turn out to be uniformly distributed.\n",
    "\n",
    "The data average posterior `dap` (see equation 1 of [Talts et al, 2018](https://arxiv.org/abs/1804.06788)) is yet another metric of interest. It is built from singular random samples of the estimated posterior samples for each `xs` above. The `dap` is expected to match the prior distribution used (see equation 1 in [Talts et al, 2018](https://arxiv.org/abs/1804.06788) too).\n"
   ]
  },
  {
   "cell_type": "code",
   "execution_count": null,
   "id": "88b23176-28c5-4925-88f5-6c153d09e674",
   "metadata": {},
   "outputs": [
    {
     "name": "stderr",
     "output_type": "stream",
     "text": [
      "/home/steinb95/development/sbi-dev/repo/sbi/diagnostics/sbc.py:363: UserWarning: std(): degrees of freedom is <= 0. Correction should be strictly less than the reduction factor (input numel divided by output numel). (Triggered internally at ../aten/src/ATen/native/ReduceOps.cpp:1760.)\n",
      "  if (c2st_scores.std(0) > 0.05).any():\n"
     ]
    }
   ],
   "source": [
    "check_stats = check_sbc(\n",
    "    ranks, thetas, dap_samples, num_posterior_samples=num_posterior_samples\n",
    ")"
   ]
  },
  {
   "cell_type": "markdown",
   "id": "fe168784-354f-48aa-a24d-bd60abe9f863",
   "metadata": {},
   "source": [
    "The `check_stats` variable created contains a dictionary with 3 metrics that help to judge our posterior. The \"first\" two compare the ranks to a uniform distribution.\n"
   ]
  },
  {
   "cell_type": "markdown",
   "id": "cac382ac-ecf8-4ca3-b441-a8fcd904a14d",
   "metadata": {},
   "source": [
    "### Ranks versus Uniform distribution\n"
   ]
  },
  {
   "cell_type": "code",
   "execution_count": null,
   "id": "ca62ad37-5004-43b0-b94c-02ec167e888e",
   "metadata": {},
   "outputs": [
    {
     "name": "stdout",
     "output_type": "stream",
     "text": [
      "kolmogorov-smirnov p-values \n",
      "\n",
      "    check_stats['ks_pvals'] = [0.0793394  0.12618521]\n"
     ]
    }
   ],
   "source": [
    "print(\n",
    "    f\"\"\"kolmogorov-smirnov p-values \\n\n",
    "    check_stats['ks_pvals'] = {check_stats['ks_pvals'].numpy()}\"\"\"\n",
    ")"
   ]
  },
  {
   "cell_type": "markdown",
   "id": "5eac9e63-3760-4f1f-a89e-c98d15a273fd",
   "metadata": {},
   "source": [
    "The Kolmogorov-Smirnov (KS test, see also [here](https://en.wikipedia.org/wiki/Kolmogorov%E2%80%93Smirnov_test#Two-sample_Kolmogorov%E2%80%93Smirnov_test)) as used by `check_sbc` provides p-values `pvals` on the null hypothesis that the samples from `ranks` are drawn from a uniform distribution (in other words `H_0: PDF(ranks) == PDF(uniform)`). We are provided two values as our problem is two-dimensional - one p-value for each dimension.\n",
    "\n",
    "The null hypothesis (of both distributions being equal) is rejected if the p-values fall below a significance threshold (usually `< 0.05`). Therefor, vanishing p-values (`ks_pvals=0`) are interpreted to indicate a vanishing false positive rate to (mistakenly) consider both distrubtions being \"equal\". In this case, both values are above `0.05` (`0.0793394` and `0.12618521`) and we, therefore, cannot claim that inference clearly went wrong. Nonetheless, we can add additional checks:\n"
   ]
  },
  {
   "cell_type": "code",
   "execution_count": null,
   "id": "4967cb17-6728-44b7-bfb0-d71fee30e4d9",
   "metadata": {},
   "outputs": [
    {
     "name": "stdout",
     "output_type": "stream",
     "text": [
      "c2st accuracies \n",
      "check_stats['c2st_ranks'] = [0.5725 0.578 ]\n"
     ]
    }
   ],
   "source": [
    "print(\n",
    "    f\"c2st accuracies \\ncheck_stats['c2st_ranks'] = {check_stats['c2st_ranks'].numpy()}\"\n",
    ")"
   ]
  },
  {
   "cell_type": "markdown",
   "id": "644ae333-f5d6-4118-99c1-f986e6a1a4d9",
   "metadata": {},
   "source": [
    "The second tier of metrics comparing `ranks` with a uniform distributions is a `c2st` test (see [here](http://arxiv.org/abs/1610.06545) for details). This is a nonparametric two sample test based on training a classifier to differentiate two ensembles. Here, these two ensembles are the observed `ranks` and samples from a uniform distribution. The values reported are the accuracies from n-fold cross-validation. If you see values around `0.5`, the classifier was unable to differentiate both ensembles, i.e. `ranks` are very uniform. If the values are high towards `1`, this matches the case where `ranks` is very unlike a uniform distribution.\n"
   ]
  },
  {
   "cell_type": "markdown",
   "id": "bc0ad068-e9d1-4ec1-9667-44fb98ecbea6",
   "metadata": {},
   "source": [
    "### Data averaged posterior (DAP) versus prior\n"
   ]
  },
  {
   "cell_type": "code",
   "execution_count": null,
   "id": "c4cb8611-763b-4318-a0ad-430266c46ac9",
   "metadata": {},
   "outputs": [
    {
     "name": "stdout",
     "output_type": "stream",
     "text": [
      "- c2st accuracies check_stats['c2st_dap'] = [0.5125 0.4975]\n"
     ]
    }
   ],
   "source": [
    "print(f\"- c2st accuracies check_stats['c2st_dap'] = {check_stats['c2st_dap'].numpy()}\")"
   ]
  },
  {
   "cell_type": "markdown",
   "id": "4707dfa8-e8fd-44e1-bb4f-6bc6ed7744c5",
   "metadata": {},
   "source": [
    "The last metric reported is again based on `c2st` computed per dimension of `theta`. If you see values around `0.5`, the `c2st` classifier was unable to differentiate both ensembles for each dimension of `theta`, i.e. `dap` are much like (if not identical to) the prior. If the values are very high towards `1`, this represents the case where `dap` is very unlike the prior distribution.\n"
   ]
  },
  {
   "cell_type": "markdown",
   "id": "229d6390-b05f-4b94-b016-6672f5b19069",
   "metadata": {},
   "source": [
    "### Visual Inspection\n"
   ]
  },
  {
   "cell_type": "code",
   "execution_count": null,
   "id": "0bc29b66-1b11-494e-8b91-7e3a99d0adac",
   "metadata": {},
   "outputs": [
    {
     "data": {
      "image/png": "[encoded data removed]",
      "text/plain": [
       "<Figure size 800x500 with 2 Axes>"
      ]
     },
     "metadata": {},
     "output_type": "display_data"
    }
   ],
   "source": [
    "\n",
    "f, ax = sbc_rank_plot(\n",
    "    ranks=ranks,\n",
    "    num_posterior_samples=num_posterior_samples,\n",
    "    plot_type=\"hist\",\n",
    "    num_bins=None,  # by passing None we use a heuristic for the number of bins.\n",
    ")"
   ]
  },
  {
   "cell_type": "markdown",
   "id": "53592f75-a204-4b5f-abc1-8bbdc8538297",
   "metadata": {},
   "source": [
    "The two plots visualize the distribution of `ranks` (here depicted in red) in each dimension. Highlighted in grey you see the 99% confidence interval of a uniform distribution given the number of samples provided. In plain english: for a uniform distribution, we would expect 1 out of 100 (red) bars to lie outside the grey area.\n",
    "\n",
    "We also observe, that the entries fluctuate to some degree. This can be considered a hint that `sbc` should be conducted with a lot more samples than 1000. A good rule of thumb is that given the number of bins `B` and the number of SBC samples `N` (chosed to be `1_000` here) should amount to `N / B ~ 20`.\n"
   ]
  },
  {
   "cell_type": "code",
   "execution_count": null,
   "id": "d76b5936-286f-468e-82ad-0a65194f9a43",
   "metadata": {},
   "outputs": [
    {
     "data": {
      "image/png": "[encoded data removed]",
      "text/plain": [
       "<Figure size 800x500 with 1 Axes>"
      ]
     },
     "metadata": {},
     "output_type": "display_data"
    }
   ],
   "source": [
    "f, ax = sbc_rank_plot(ranks, 1_000, plot_type=\"cdf\")"
   ]
  },
  {
   "cell_type": "markdown",
   "id": "c2b021c4-c1aa-433d-95c4-e09e926f172f",
   "metadata": {},
   "source": [
    "The above provides a visual representation of the cumulative density function (CDF) of `ranks` (blue and orange for each dimension of `theta`) with respect to the 95% confidence interval of a uniform distribution (grey).\n"
   ]
  },
  {
   "cell_type": "markdown",
   "id": "3bd10e67-744f-4ea7-ab3c-08c14d9f9978",
   "metadata": {},
   "source": [
    "# When things go haywire\n",
    "\n",
    "Next, we would like to explore some pathologies visible in sbc plots which can hint at our estimated posterior being somewhat wrong or completely off.\n"
   ]
  },
  {
   "cell_type": "markdown",
   "id": "46b9562d-9c7b-4adf-837e-e9e2ca5abdb6",
   "metadata": {},
   "source": [
    "## A shifted posterior mean\n",
    "\n",
    "In this scenario we emulate the situation that our posterior estimates incorrectly with a constant shift. We reuse our trained NPE posterior from above and wrap it so that all samples returned expose a constant shift by `+0.1`.\n"
   ]
  },
  {
   "cell_type": "code",
   "execution_count": null,
   "id": "b48d5404-ade1-45cb-97ee-9feab1da04ee",
   "metadata": {},
   "outputs": [],
   "source": [
    "from utils_13_diagnosis_sbc import BiasedPosterior\n",
    "\n",
    "# this posterior shifts the expected value of the prior by .1\n",
    "posterior_ = BiasedPosterior(posterior, shift=0.1)"
   ]
  },
  {
   "cell_type": "code",
   "execution_count": null,
   "id": "e1879b35-ebf5-4927-8200-9a3a6488213b",
   "metadata": {},
   "outputs": [
    {
     "data": {
      "application/vnd.jupyter.widget-view+json": {
       "model_id": "58559c5ef030462b81f3878da330a06c",
       "version_major": 2,
       "version_minor": 0
      },
      "text/plain": [
       "Running 1000 sbc samples.:   0%|          | 0/1000 [00:00<?, ?it/s]"
      ]
     },
     "metadata": {},
     "output_type": "display_data"
    },
    {
     "name": "stderr",
     "output_type": "stream",
     "text": [
      "/Users/janteusen/qode/sbi/sbi/analysis/sbc.py:359: UserWarning: std(): degrees of freedom is <= 0. Correction should be strictly less than the reduction factor (input numel divided by output numel). (Triggered internally at /Users/runner/work/pytorch/pytorch/pytorch/aten/src/ATen/native/ReduceOps.cpp:1760.)\n",
      "  if (c2st_scores.std(0) > 0.05).any():\n"
     ]
    },
    {
     "name": "stdout",
     "output_type": "stream",
     "text": [
      "{'ks_pvals': tensor([0., 0.]), 'c2st_ranks': tensor([0.6775, 0.6900]), 'c2st_dap': tensor([0.5160, 0.4925])}\n"
     ]
    }
   ],
   "source": [
    "ranks, dap_samples = run_sbc(thetas, xs, posterior_)\n",
    "check_stats = check_sbc(ranks, thetas, dap_samples, 1_000)\n",
    "print(check_stats)"
   ]
  },
  {
   "cell_type": "markdown",
   "id": "8fc2acca-03a0-42b1-a964-b0951b5c8f8d",
   "metadata": {},
   "source": [
    "We can see that the Kolmogorv-Smirnov p-values vanish (`'ks_pvals': tensor([0., 0.])`). Thus, we can reject the hypothesis that the `ranks` PDF is the uniform PDF. The `c2st` accuracies show values higher than `0.5`. This is indicative that the `ranks` distribution is not a uniform PDF as well.\n"
   ]
  },
  {
   "cell_type": "code",
   "execution_count": null,
   "id": "4ef7deb0-d73f-4c64-a6bb-71e388427036",
   "metadata": {},
   "outputs": [
    {
     "data": {
      "image/png": "[encoded data removed]",
      "text/plain": [
       "<Figure size 800x500 with 2 Axes>"
      ]
     },
     "metadata": {},
     "output_type": "display_data"
    }
   ],
   "source": [
    "f, ax = sbc_rank_plot(ranks, 1_000, plot_type=\"hist\", num_bins=30)"
   ]
  },
  {
   "cell_type": "markdown",
   "id": "23ec9d31-d9fc-4469-9e7d-217d32bf70b9",
   "metadata": {},
   "source": [
    "Inspecting the histograms for both dimenions, the rank distribution is clearly tilted to low rank values for both dimensions. Because we have shifted the expected value of the posterior to higher values (by `0.1`), we see more entries at low rank values.\n"
   ]
  },
  {
   "cell_type": "markdown",
   "id": "34f95fb3-b195-44e1-b1bc-44d2dce1f6e7",
   "metadata": {},
   "source": [
    "Let's try to shift all posterior samples in the opposite direction. We shift the expectation value by `-0.1`:\n"
   ]
  },
  {
   "cell_type": "code",
   "execution_count": null,
   "id": "43a45b10-aaac-4e66-a502-440d2ac1a948",
   "metadata": {},
   "outputs": [],
   "source": [
    "posterior_ = BiasedPosterior(posterior, shift=-0.1)"
   ]
  },
  {
   "cell_type": "code",
   "execution_count": null,
   "id": "98cbfd58-5bfc-414f-9fa3-ba766dad0638",
   "metadata": {},
   "outputs": [
    {
     "data": {
      "application/vnd.jupyter.widget-view+json": {
       "model_id": "aa27f852ae164295950130e2963967ca",
       "version_major": 2,
       "version_minor": 0
      },
      "text/plain": [
       "Running 1000 sbc samples.:   0%|          | 0/1000 [00:00<?, ?it/s]"
      ]
     },
     "metadata": {},
     "output_type": "display_data"
    },
    {
     "name": "stderr",
     "output_type": "stream",
     "text": [
      "/Users/janteusen/qode/sbi/sbi/analysis/sbc.py:359: UserWarning: std(): degrees of freedom is <= 0. Correction should be strictly less than the reduction factor (input numel divided by output numel). (Triggered internally at /Users/runner/work/pytorch/pytorch/pytorch/aten/src/ATen/native/ReduceOps.cpp:1760.)\n",
      "  if (c2st_scores.std(0) > 0.05).any():\n"
     ]
    },
    {
     "name": "stdout",
     "output_type": "stream",
     "text": [
      "{'ks_pvals': tensor([0., 0.]), 'c2st_ranks': tensor([0.6700, 0.6815]), 'c2st_dap': tensor([0.4790, 0.4940])}\n"
     ]
    },
    {
     "data": {
      "image/png": "[encoded data removed]",
      "text/plain": [
       "<Figure size 800x500 with 2 Axes>"
      ]
     },
     "metadata": {},
     "output_type": "display_data"
    }
   ],
   "source": [
    "ranks, dap_samples = run_sbc(thetas, xs, posterior_)\n",
    "check_stats = check_sbc(ranks, thetas, dap_samples, 1_000)\n",
    "print(check_stats)\n",
    "f, ax = sbc_rank_plot(ranks, 1_000, plot_type=\"hist\", num_bins=30)"
   ]
  },
  {
   "cell_type": "markdown",
   "id": "794893d9-ec44-46fc-9234-9975327e62b7",
   "metadata": {},
   "source": [
    "A similar behavior is observed, but this time we see an upshot of ranks to higher values. Because we have shifted the expected value of the posterior to smaller values, we see an upshot in high rank counts.\n",
    "\n",
    "It is interesting to see that the historgams obtained provide very convincing evidence that this is not a uniform distribution.\n",
    "\n",
    "To conlude at this point, **the rank distribution is capable of identifying pathologies of the estimated posterior**:\n",
    "\n",
    "- a **left-skewed rank distribution** shows a systematic **underestimation of the posterior mean**  \n",
    "  (we shifted the posterior by `0.1`)\n",
    "- a **rank-skewed rank distribution** shows a systematic **overestimation of the posterior mean**  \n",
    "  (we shifted the posterior by `-0.1`)\n"
   ]
  },
  {
   "cell_type": "markdown",
   "id": "88bce62e-63b9-46b8-a3c5-a013e13e9cd0",
   "metadata": {},
   "source": [
    "## A dispersed posterior\n",
    "\n",
    "In this scenario we emulate the situation if our posterior estimates incorrectly with a dispersion, i.e. the posterior is too wide or too thin. We reuse our trained NPE posterior from above and wrap it so that all samples return a dispersion by 100% more wide (`2`), i.e. the variance is overestimated by a factor of 2.\n"
   ]
  },
  {
   "cell_type": "code",
   "execution_count": null,
   "id": "f12d3bde-920c-4811-997d-49b30202560c",
   "metadata": {},
   "outputs": [],
   "source": [
    "from utils_13_diagnosis_sbc import DispersedPosterior\n",
    "\n",
    "# this posterior which disperses the expected posterior value of the prior by 2.\n",
    "posterior_ = DispersedPosterior(posterior, dispersion=2.0)"
   ]
  },
  {
   "cell_type": "code",
   "execution_count": null,
   "id": "20f63dba-afd6-4614-9f77-5b6a2dccf63d",
   "metadata": {},
   "outputs": [
    {
     "data": {
      "application/vnd.jupyter.widget-view+json": {
       "model_id": "8b09d915906348fea7a1f7fb73fe4564",
       "version_major": 2,
       "version_minor": 0
      },
      "text/plain": [
       "Running 1000 sbc samples.:   0%|          | 0/1000 [00:00<?, ?it/s]"
      ]
     },
     "metadata": {},
     "output_type": "display_data"
    },
    {
     "name": "stderr",
     "output_type": "stream",
     "text": [
      "/Users/janteusen/qode/sbi/sbi/analysis/sbc.py:359: UserWarning: std(): degrees of freedom is <= 0. Correction should be strictly less than the reduction factor (input numel divided by output numel). (Triggered internally at /Users/runner/work/pytorch/pytorch/pytorch/aten/src/ATen/native/ReduceOps.cpp:1760.)\n",
      "  if (c2st_scores.std(0) > 0.05).any():\n"
     ]
    },
    {
     "name": "stdout",
     "output_type": "stream",
     "text": [
      "{'ks_pvals': tensor([8.1346e-08, 1.3010e-10]), 'c2st_ranks': tensor([0.6115, 0.6020]), 'c2st_dap': tensor([0.4990, 0.4785])}\n"
     ]
    },
    {
     "data": {
      "image/png": "[encoded data removed]",
      "text/plain": [
       "<Figure size 800x500 with 2 Axes>"
      ]
     },
     "metadata": {},
     "output_type": "display_data"
    }
   ],
   "source": [
    "ranks, dap_samples = run_sbc(thetas, xs, posterior_)\n",
    "check_stats = check_sbc(ranks, thetas, dap_samples, 1_000)\n",
    "print(check_stats)\n",
    "f, ax = sbc_rank_plot(ranks, 1_000, plot_type=\"hist\", num_bins=30)"
   ]
  },
  {
   "cell_type": "markdown",
   "id": "3d21c7f4-477d-452f-951a-d78ae14912b2",
   "metadata": {},
   "source": [
    "The rank histograms now look more like a very wide gaussian distribution centered in the middle. The KS p-values again vanish unsurprisingly (we must reject the hypothesis that both distributions are from the same uniform PDF) and the c2st_ranks indicate that the rank histogram is not uniform too. As our posterior samples are distributed too broad now, we obtain more \"medium\" range ranks and hence produce the peak of ranks in the center of the histogram.\n"
   ]
  },
  {
   "cell_type": "markdown",
   "id": "6b8127d6-0952-4684-800b-2e4b371c276d",
   "metadata": {},
   "source": [
    "We can repeat this exercise by making our posterior too thin, i.e. the variance of the posterior is too small. Let's cut it by half.\n"
   ]
  },
  {
   "cell_type": "code",
   "execution_count": null,
   "id": "e893993d-b644-4da8-a0fe-5d4399683d1a",
   "metadata": {},
   "outputs": [],
   "source": [
    "posterior_ = DispersedPosterior(posterior, dispersion=0.5)"
   ]
  },
  {
   "cell_type": "code",
   "execution_count": null,
   "id": "11201c39-773a-4175-b301-ad5b6404e1c6",
   "metadata": {},
   "outputs": [
    {
     "data": {
      "application/vnd.jupyter.widget-view+json": {
       "model_id": "d17647acd7174190b4930c21b2c8dd5c",
       "version_major": 2,
       "version_minor": 0
      },
      "text/plain": [
       "Running 1000 sbc samples.:   0%|          | 0/1000 [00:00<?, ?it/s]"
      ]
     },
     "metadata": {},
     "output_type": "display_data"
    },
    {
     "name": "stderr",
     "output_type": "stream",
     "text": [
      "/Users/janteusen/qode/sbi/sbi/analysis/sbc.py:359: UserWarning: std(): degrees of freedom is <= 0. Correction should be strictly less than the reduction factor (input numel divided by output numel). (Triggered internally at /Users/runner/work/pytorch/pytorch/pytorch/aten/src/ATen/native/ReduceOps.cpp:1760.)\n",
      "  if (c2st_scores.std(0) > 0.05).any():\n"
     ]
    },
    {
     "name": "stdout",
     "output_type": "stream",
     "text": [
      "{'ks_pvals': tensor([3.2357e-13, 7.3539e-14]), 'c2st_ranks': tensor([0.6035, 0.5755]), 'c2st_dap': tensor([0.5070, 0.5155])}\n"
     ]
    },
    {
     "data": {
      "image/png": "[encoded data removed]",
      "text/plain": [
       "<Figure size 800x500 with 2 Axes>"
      ]
     },
     "metadata": {},
     "output_type": "display_data"
    }
   ],
   "source": [
    "ranks, dap_samples = run_sbc(thetas, xs, posterior_)\n",
    "check_stats = check_sbc(ranks, thetas, dap_samples, 1_000)\n",
    "print(check_stats)\n",
    "f, ax = sbc_rank_plot(ranks, 1_000, plot_type=\"hist\", num_bins=30)"
   ]
  },
  {
   "cell_type": "markdown",
   "id": "31fb7dce-be10-4584-8cde-dc7a6ba0c292",
   "metadata": {},
   "source": [
    "The histogram of ranks now shoots above the allowed (greyed) area for a uniform distributed around the extrema. We made the posterior samples too thin, so we received more extreme counts of ranks. The KS p-values vanish again and the `c2st` metric of the ranks is also larger than `.5` which underlines that our rank distribution is not uniformly distributed.\n"
   ]
  },
  {
   "cell_type": "markdown",
   "id": "66359a36-6a22-4b1b-8c5a-a9ce4d6425af",
   "metadata": {},
   "source": [
    "We again see, **the rank distribution is capable of identifying pathologies of the estimated posterior**:\n",
    "\n",
    "- a **centrally peaked rank distribution** shows a systematic **over-estimation of the posterior variance**  \n",
    "  (we dispersed the variance of the posterior by a factor of `2`)\n",
    "- a **U shaped rank distribution** shows a systematic **under-estimation of the posterior variance**  \n",
    "  (we dispersed the variance of the posterior by a factor of `.5`)\n"
   ]
  },
  {
   "cell_type": "markdown",
   "id": "ab0fc2e9-fdef-4f45-8c5c-147c0ad3910a",
   "metadata": {},
   "source": [
    "Simulation-based calibration offers a direct handle on which pathology an estimated posterior examines. Outside of this tutorial, you may very well encounter situations with mixtures of effects (a shifted mean and over-estimated variance). Moreover, uncovering a malignant posterior is only the first step to fix your analysis.\n"
   ]
  }
 ],
 "metadata": {
  "kernelspec": {
   "argv": [
    "python",
    "-m",
    "ipykernel_launcher",
    "-f",
    "{connection_file}"
   ],
   "display_name": "python3",
   "env": null,
   "interrupt_mode": "signal",
   "language": "python",
   "metadata": {
    "debugger": true
   },
   "name": "python3"
  }
 },
 "nbformat": 4,
 "nbformat_minor": 4
}
