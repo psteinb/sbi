{
 "cells": [
  {
   "cell_type": "markdown",
   "metadata": {
    "collapsed": false
   },
   "source": [
    "# Simulation-based Calibration in SBI\n",
    "\n",
    "After a posterior has been trained given a simulation, predictions from this posterior should be made subject to several diagnostical tests. [Posterior Predictive Checks](12_diagnosis_posterior_predictive_check.ipynb) are one such way to \"critique\" a trained model. Another important approach to such diagnostics is simulation-based calibration as reported by [Talts et al, 2018](https://arxiv.org/abs/1804.06788).\n",
    "\n",
    "**Simulation-based calibration** (SBC) boils down to a visual (qualitative) way as well as a quantitive measure to check, if the uncertainties obtained from the ensemble of posterior samples meets expectations. In this way, SBC can unveil if the uncertainties of the posterior samples can be considered well calibrated (or healthy if you will). SBC can be used to uncover malignant posteriors. SBC cannot be used to fix this posterior. As such, SBC can be viewed as a necessary condition for a valid inference using a posterior."
   ]
  },
  {
   "cell_type": "markdown",
   "metadata": {
    "collapsed": false
   },
   "source": [
    "## in a nutshell\n",
    "\n",
    "SBC repeats posterior inference to obtain predicted samples of $x_{true}$ (obtained from $simulator(\\theta_{true})$). SBC then ranks these $\\theta_{pp}$ with respect to $\\theta_{true}$. This rank is calculated by counting those samples $\\theta_{pp}$ which fall below $\\theta_{true}$. \n",
    "\n",
    "### key ideas behind SBC\n",
    "\n",
    "The core idea behind SBC is two fold: \n",
    "\n",
    "- SBC ranks of posterior samples with respect to their ground truth follow a uniform distribution.  \n",
    "(If the SBC ranks are not uniformly distributed, the posterior is not well calibrated.)\n",
    "\n",
    "- samples from the data averaged posterior are distributed according to the prior\n",
    "\n",
    "### What can SBC diagnose?\n",
    "\n",
    "**SBC can inform us whether we are not wrong.** However, it cannot tell us whether we are right. SBC checks a necessary condition. For example, imagine you run SBC using the prior as a posterior. The ranks would be perfectly uniform. But the inference would be wrong.\n",
    "\n",
    "**The [Posterior Predictive Checks](12_diagnosis_posterior_predictive_check.ipynb) can be seen as the complementary sufficient check** for the posterior (only as a methaphor, no theoretical guarantees here). Using the prior as a posterior and then doing predictive checks would clearly show that inference failed. \n",
    "\n",
    "So SBC can ...\n",
    "\n",
    "- tell us whether a method produces posterior samples $\\theta_{pp}$ that have a systematic negative or positive bias (shift in the mean of the predictions)\n",
    "- tell us whether a method produces posterior samples $\\theta_{pp}$ that are systematically over- or underdispersed (too large or too small variance) "
   ]
  },
  {
   "cell_type": "markdown",
   "metadata": {
    "collapsed": false
   },
   "source": [
    "## a healthy posterior\n",
    "\n",
    "Let's take the gaussian linear simulation and run inference with (S)NPE on it. As we do not perform any rounds, we actually only do neural posterior estimation (NPE)."
   ]
  },
  {
   "cell_type": "code",
   "execution_count": 1,
   "metadata": {
    "collapsed": false
   },
   "outputs": [],
   "source": [
    "import torch\n",
    "_ = torch.manual_seed(10)\n",
    "from torch import eye, ones, zeros\n",
    "from torch.distributions import MultivariateNormal\n",
    "\n",
    "from sbi.analysis import check_sbc, run_sbc, get_nltp\n",
    "from sbi.inference import SNPE, SNPE_C, prepare_for_sbi, simulate_for_sbi\n",
    "from sbi.simulators import linear_gaussian, diagonal_linear_gaussian\n"
   ]
  },
  {
   "cell_type": "code",
   "execution_count": 2,
   "metadata": {
    "collapsed": false
   },
   "outputs": [],
   "source": [
    "num_dim = 2\n",
    "num_simulations = 5_000\n",
    "\n",
    "prior_mean = ones(num_dim)\n",
    "prior_cov = 2*eye(num_dim)\n",
    "prior = MultivariateNormal(loc=prior_mean, covariance_matrix=prior_cov, validate_args=False)\n"
   ]
  },
  {
   "cell_type": "markdown",
   "metadata": {
    "collapsed": false
   },
   "source": [
    "## An ideal case\n",
    "\n",
    "To explore SBC, we make our life easy and assume that we deal with a problem where the likelihood is modelled by an identity mapping and a bit of smear. But to start, we only use an almost vanishing smear of `0.01`."
   ]
  },
  {
   "cell_type": "code",
   "execution_count": 3,
   "metadata": {
    "collapsed": false
   },
   "outputs": [
    {
     "data": {
      "application/vnd.jupyter.widget-view+json": {
       "model_id": "d7b47819a29b4fc6a19dd624b53137a4",
       "version_major": 2,
       "version_minor": 0
      },
      "text/plain": [
       "Running 5000 simulations.:   0%|          | 0/5000 [00:00<?, ?it/s]"
      ]
     },
     "metadata": {},
     "output_type": "display_data"
    }
   ],
   "source": [
    "\n",
    "default_likelihood_loc = 0. #let's start with 0 shift\n",
    "default_likelihood_scale = 0.01 #let's smear theta only by a little bit\n",
    "\n",
    "def simulator(theta, loc = default_likelihood_loc, scale = default_likelihood_scale):\n",
    "    \"\"\" linear gaussian inspired by sbibm\n",
    "    s://github.com/sbi-benchmark/sbibm/blob/15f068a08a938383116ffd92b92de50c580810a3/sbibm/tasks/gaussian_linear/task.py#L74\n",
    "    \"\"\"\n",
    "    num_dim = theta.shape[-1]\n",
    "    cov_ = scale*eye(num_dim) #always positively semi-definite\n",
    "\n",
    "    # using validate_args=False disables sanity checks on `covariance_matrix`\n",
    "    # for the sake of speed\n",
    "    value = MultivariateNormal(loc=(theta+loc), covariance_matrix=cov_, validate_args=False).sample()\n",
    "    return value\n",
    "\n",
    "simulator, prior = prepare_for_sbi(simulator, prior)\n",
    "theta, x = simulate_for_sbi(simulator, prior, num_simulations)\n"
   ]
  },
  {
   "cell_type": "code",
   "execution_count": 4,
   "metadata": {
    "collapsed": false
   },
   "outputs": [
    {
     "name": "stdout",
     "output_type": "stream",
     "text": [
      "theta: [0.68821174 4.186863  ]\n",
      "x    : [0.69967127 4.3175235 ]\n"
     ]
    }
   ],
   "source": [
    "# we define a hold-out sample of 100 to build an observation\n",
    "theta_holdout = prior.sample((100,))\n",
    "x_holdout = simulator(theta_holdout)\n",
    "\n",
    "theta_o = theta_holdout[42,]\n",
    "x_o = simulator(theta_o)\n",
    "print(\"theta:\", theta_o.numpy())\n",
    "print(\"x    :\", x_o.numpy())"
   ]
  },
  {
   "cell_type": "code",
   "execution_count": 5,
   "metadata": {
    "collapsed": false
   },
   "outputs": [
    {
     "name": "stdout",
     "output_type": "stream",
     "text": [
      "\r",
      " Training neural network. Epochs trained:  1"
     ]
    },
    {
     "name": "stdout",
     "output_type": "stream",
     "text": [
      "\r",
      " Training neural network. Epochs trained:  2"
     ]
    },
    {
     "name": "stdout",
     "output_type": "stream",
     "text": [
      "\r",
      " Training neural network. Epochs trained:  3"
     ]
    },
    {
     "name": "stdout",
     "output_type": "stream",
     "text": [
      "\r",
      " Training neural network. Epochs trained:  4"
     ]
    },
    {
     "name": "stdout",
     "output_type": "stream",
     "text": [
      "\r",
      " Training neural network. Epochs trained:  5"
     ]
    },
    {
     "name": "stdout",
     "output_type": "stream",
     "text": [
      "\r",
      " Training neural network. Epochs trained:  6"
     ]
    },
    {
     "name": "stdout",
     "output_type": "stream",
     "text": [
      "\r",
      " Training neural network. Epochs trained:  7"
     ]
    },
    {
     "name": "stdout",
     "output_type": "stream",
     "text": [
      "\r",
      " Training neural network. Epochs trained:  8"
     ]
    },
    {
     "name": "stdout",
     "output_type": "stream",
     "text": [
      "\r",
      " Training neural network. Epochs trained:  9"
     ]
    },
    {
     "name": "stdout",
     "output_type": "stream",
     "text": [
      "\r",
      " Training neural network. Epochs trained:  10"
     ]
    },
    {
     "name": "stdout",
     "output_type": "stream",
     "text": [
      "\r",
      " Training neural network. Epochs trained:  11"
     ]
    },
    {
     "name": "stdout",
     "output_type": "stream",
     "text": [
      "\r",
      " Training neural network. Epochs trained:  12"
     ]
    },
    {
     "name": "stdout",
     "output_type": "stream",
     "text": [
      "\r",
      " Training neural network. Epochs trained:  13"
     ]
    },
    {
     "name": "stdout",
     "output_type": "stream",
     "text": [
      "\r",
      " Training neural network. Epochs trained:  14"
     ]
    },
    {
     "name": "stdout",
     "output_type": "stream",
     "text": [
      "\r",
      " Training neural network. Epochs trained:  15"
     ]
    },
    {
     "name": "stdout",
     "output_type": "stream",
     "text": [
      "\r",
      " Training neural network. Epochs trained:  16"
     ]
    },
    {
     "name": "stdout",
     "output_type": "stream",
     "text": [
      "\r",
      " Training neural network. Epochs trained:  17"
     ]
    },
    {
     "name": "stdout",
     "output_type": "stream",
     "text": [
      "\r",
      " Training neural network. Epochs trained:  18"
     ]
    },
    {
     "name": "stdout",
     "output_type": "stream",
     "text": [
      "\r",
      " Training neural network. Epochs trained:  19"
     ]
    },
    {
     "name": "stdout",
     "output_type": "stream",
     "text": [
      "\r",
      " Training neural network. Epochs trained:  20"
     ]
    },
    {
     "name": "stdout",
     "output_type": "stream",
     "text": [
      "\r",
      " Training neural network. Epochs trained:  21"
     ]
    },
    {
     "name": "stdout",
     "output_type": "stream",
     "text": [
      "\r",
      " Training neural network. Epochs trained:  22"
     ]
    },
    {
     "name": "stdout",
     "output_type": "stream",
     "text": [
      "\r",
      " Training neural network. Epochs trained:  23"
     ]
    },
    {
     "name": "stdout",
     "output_type": "stream",
     "text": [
      "\r",
      " Training neural network. Epochs trained:  24"
     ]
    },
    {
     "name": "stdout",
     "output_type": "stream",
     "text": [
      "\r",
      " Training neural network. Epochs trained:  25"
     ]
    },
    {
     "name": "stdout",
     "output_type": "stream",
     "text": [
      "\r",
      " Training neural network. Epochs trained:  26"
     ]
    },
    {
     "name": "stdout",
     "output_type": "stream",
     "text": [
      "\r",
      " Training neural network. Epochs trained:  27"
     ]
    },
    {
     "name": "stdout",
     "output_type": "stream",
     "text": [
      "\r",
      " Training neural network. Epochs trained:  28"
     ]
    },
    {
     "name": "stdout",
     "output_type": "stream",
     "text": [
      "\r",
      " Training neural network. Epochs trained:  29"
     ]
    },
    {
     "name": "stdout",
     "output_type": "stream",
     "text": [
      "\r",
      " Training neural network. Epochs trained:  30"
     ]
    },
    {
     "name": "stdout",
     "output_type": "stream",
     "text": [
      "\r",
      " Training neural network. Epochs trained:  31"
     ]
    },
    {
     "name": "stdout",
     "output_type": "stream",
     "text": [
      "\r",
      " Training neural network. Epochs trained:  32"
     ]
    },
    {
     "name": "stdout",
     "output_type": "stream",
     "text": [
      "\r",
      " Training neural network. Epochs trained:  33"
     ]
    },
    {
     "name": "stdout",
     "output_type": "stream",
     "text": [
      "\r",
      " Training neural network. Epochs trained:  34"
     ]
    },
    {
     "name": "stdout",
     "output_type": "stream",
     "text": [
      "\r",
      " Training neural network. Epochs trained:  35"
     ]
    },
    {
     "name": "stdout",
     "output_type": "stream",
     "text": [
      "\r",
      " Training neural network. Epochs trained:  36"
     ]
    },
    {
     "name": "stdout",
     "output_type": "stream",
     "text": [
      "\r",
      " Training neural network. Epochs trained:  37"
     ]
    },
    {
     "name": "stdout",
     "output_type": "stream",
     "text": [
      "\r",
      " Training neural network. Epochs trained:  38"
     ]
    },
    {
     "name": "stdout",
     "output_type": "stream",
     "text": [
      "\r",
      " Training neural network. Epochs trained:  39"
     ]
    },
    {
     "name": "stdout",
     "output_type": "stream",
     "text": [
      "\r",
      " Training neural network. Epochs trained:  40"
     ]
    },
    {
     "name": "stdout",
     "output_type": "stream",
     "text": [
      "\r",
      " Training neural network. Epochs trained:  41"
     ]
    },
    {
     "name": "stdout",
     "output_type": "stream",
     "text": [
      "\r",
      " Training neural network. Epochs trained:  42"
     ]
    },
    {
     "name": "stdout",
     "output_type": "stream",
     "text": [
      "\r",
      " Training neural network. Epochs trained:  43"
     ]
    },
    {
     "name": "stdout",
     "output_type": "stream",
     "text": [
      "\r",
      " Training neural network. Epochs trained:  44"
     ]
    },
    {
     "name": "stdout",
     "output_type": "stream",
     "text": [
      "\r",
      " Training neural network. Epochs trained:  45"
     ]
    },
    {
     "name": "stdout",
     "output_type": "stream",
     "text": [
      "\r",
      " Training neural network. Epochs trained:  46"
     ]
    },
    {
     "name": "stdout",
     "output_type": "stream",
     "text": [
      "\r",
      " Training neural network. Epochs trained:  47"
     ]
    },
    {
     "name": "stdout",
     "output_type": "stream",
     "text": [
      "\r",
      " Training neural network. Epochs trained:  48"
     ]
    },
    {
     "name": "stdout",
     "output_type": "stream",
     "text": [
      "\r",
      " Training neural network. Epochs trained:  49"
     ]
    },
    {
     "name": "stdout",
     "output_type": "stream",
     "text": [
      "\r",
      " Training neural network. Epochs trained:  50"
     ]
    },
    {
     "name": "stdout",
     "output_type": "stream",
     "text": [
      "\r",
      " Training neural network. Epochs trained:  51"
     ]
    },
    {
     "name": "stdout",
     "output_type": "stream",
     "text": [
      "\r",
      " Training neural network. Epochs trained:  52"
     ]
    },
    {
     "name": "stdout",
     "output_type": "stream",
     "text": [
      "\r",
      " Training neural network. Epochs trained:  53"
     ]
    },
    {
     "name": "stdout",
     "output_type": "stream",
     "text": [
      "\r",
      " Training neural network. Epochs trained:  54"
     ]
    },
    {
     "name": "stdout",
     "output_type": "stream",
     "text": [
      "\r",
      " Training neural network. Epochs trained:  55"
     ]
    },
    {
     "name": "stdout",
     "output_type": "stream",
     "text": [
      "\r",
      " Training neural network. Epochs trained:  56"
     ]
    },
    {
     "name": "stdout",
     "output_type": "stream",
     "text": [
      "\r",
      " Training neural network. Epochs trained:  57"
     ]
    },
    {
     "name": "stdout",
     "output_type": "stream",
     "text": [
      "\r",
      " Training neural network. Epochs trained:  58"
     ]
    },
    {
     "name": "stdout",
     "output_type": "stream",
     "text": [
      "\r",
      " Training neural network. Epochs trained:  59"
     ]
    },
    {
     "name": "stdout",
     "output_type": "stream",
     "text": [
      "\r",
      " Training neural network. Epochs trained:  60"
     ]
    },
    {
     "name": "stdout",
     "output_type": "stream",
     "text": [
      "\r",
      " Training neural network. Epochs trained:  61"
     ]
    },
    {
     "name": "stdout",
     "output_type": "stream",
     "text": [
      "\r",
      " Training neural network. Epochs trained:  62"
     ]
    },
    {
     "name": "stdout",
     "output_type": "stream",
     "text": [
      "\r",
      " Training neural network. Epochs trained:  63"
     ]
    },
    {
     "name": "stdout",
     "output_type": "stream",
     "text": [
      "\r",
      " Training neural network. Epochs trained:  64"
     ]
    },
    {
     "name": "stdout",
     "output_type": "stream",
     "text": [
      "\r",
      " Training neural network. Epochs trained:  65"
     ]
    },
    {
     "name": "stdout",
     "output_type": "stream",
     "text": [
      "\r",
      " Training neural network. Epochs trained:  66"
     ]
    },
    {
     "name": "stdout",
     "output_type": "stream",
     "text": [
      "\r",
      " Training neural network. Epochs trained:  67"
     ]
    },
    {
     "name": "stdout",
     "output_type": "stream",
     "text": [
      "\r",
      " Training neural network. Epochs trained:  68"
     ]
    },
    {
     "name": "stdout",
     "output_type": "stream",
     "text": [
      "\r",
      " Training neural network. Epochs trained:  69"
     ]
    },
    {
     "name": "stdout",
     "output_type": "stream",
     "text": [
      "\r",
      " Training neural network. Epochs trained:  70"
     ]
    },
    {
     "name": "stdout",
     "output_type": "stream",
     "text": [
      "\r",
      " Training neural network. Epochs trained:  71"
     ]
    },
    {
     "name": "stdout",
     "output_type": "stream",
     "text": [
      "\r",
      " Training neural network. Epochs trained:  72"
     ]
    },
    {
     "name": "stdout",
     "output_type": "stream",
     "text": [
      "\r",
      " Training neural network. Epochs trained:  73"
     ]
    },
    {
     "name": "stdout",
     "output_type": "stream",
     "text": [
      "\r",
      " Training neural network. Epochs trained:  74"
     ]
    },
    {
     "name": "stdout",
     "output_type": "stream",
     "text": [
      "\r",
      " Training neural network. Epochs trained:  75"
     ]
    },
    {
     "name": "stdout",
     "output_type": "stream",
     "text": [
      "\r",
      " Training neural network. Epochs trained:  76"
     ]
    },
    {
     "name": "stdout",
     "output_type": "stream",
     "text": [
      "\r",
      " Training neural network. Epochs trained:  77"
     ]
    },
    {
     "name": "stdout",
     "output_type": "stream",
     "text": [
      "\r",
      " Training neural network. Epochs trained:  78"
     ]
    },
    {
     "name": "stdout",
     "output_type": "stream",
     "text": [
      "\r",
      " Training neural network. Epochs trained:  79"
     ]
    },
    {
     "name": "stdout",
     "output_type": "stream",
     "text": [
      "\r",
      " Training neural network. Epochs trained:  80"
     ]
    },
    {
     "name": "stdout",
     "output_type": "stream",
     "text": [
      "\r",
      " Training neural network. Epochs trained:  81"
     ]
    },
    {
     "name": "stdout",
     "output_type": "stream",
     "text": [
      "\r",
      " Training neural network. Epochs trained:  82"
     ]
    },
    {
     "name": "stdout",
     "output_type": "stream",
     "text": [
      "\r",
      " Training neural network. Epochs trained:  83"
     ]
    },
    {
     "name": "stdout",
     "output_type": "stream",
     "text": [
      "\r",
      " Training neural network. Epochs trained:  84"
     ]
    },
    {
     "name": "stdout",
     "output_type": "stream",
     "text": [
      "\r",
      " Training neural network. Epochs trained:  85"
     ]
    },
    {
     "name": "stdout",
     "output_type": "stream",
     "text": [
      "\r",
      " Training neural network. Epochs trained:  86"
     ]
    },
    {
     "name": "stdout",
     "output_type": "stream",
     "text": [
      "\r",
      " Training neural network. Epochs trained:  87"
     ]
    },
    {
     "name": "stdout",
     "output_type": "stream",
     "text": [
      "\r",
      " Training neural network. Epochs trained:  88"
     ]
    },
    {
     "name": "stdout",
     "output_type": "stream",
     "text": [
      "\r",
      " Training neural network. Epochs trained:  89"
     ]
    },
    {
     "name": "stdout",
     "output_type": "stream",
     "text": [
      "\r",
      " Training neural network. Epochs trained:  90"
     ]
    },
    {
     "name": "stdout",
     "output_type": "stream",
     "text": [
      "\r",
      " Training neural network. Epochs trained:  91"
     ]
    },
    {
     "name": "stdout",
     "output_type": "stream",
     "text": [
      "\r",
      " Training neural network. Epochs trained:  92"
     ]
    },
    {
     "name": "stdout",
     "output_type": "stream",
     "text": [
      "\r",
      " Training neural network. Epochs trained:  93"
     ]
    },
    {
     "name": "stdout",
     "output_type": "stream",
     "text": [
      "\r",
      " Training neural network. Epochs trained:  94"
     ]
    },
    {
     "name": "stdout",
     "output_type": "stream",
     "text": [
      "\r",
      " Training neural network. Epochs trained:  95"
     ]
    },
    {
     "name": "stdout",
     "output_type": "stream",
     "text": [
      "\r",
      " Training neural network. Epochs trained:  96"
     ]
    },
    {
     "name": "stdout",
     "output_type": "stream",
     "text": [
      "\r",
      " Training neural network. Epochs trained:  97"
     ]
    },
    {
     "name": "stdout",
     "output_type": "stream",
     "text": [
      "\r",
      " Training neural network. Epochs trained:  98"
     ]
    },
    {
     "name": "stdout",
     "output_type": "stream",
     "text": [
      "\r",
      " Training neural network. Epochs trained:  99"
     ]
    },
    {
     "name": "stdout",
     "output_type": "stream",
     "text": [
      "\r",
      " Training neural network. Epochs trained:  100"
     ]
    },
    {
     "name": "stdout",
     "output_type": "stream",
     "text": [
      "\r",
      " Training neural network. Epochs trained:  101"
     ]
    },
    {
     "name": "stdout",
     "output_type": "stream",
     "text": [
      "\r",
      " Training neural network. Epochs trained:  102"
     ]
    },
    {
     "name": "stdout",
     "output_type": "stream",
     "text": [
      "\r",
      " Training neural network. Epochs trained:  103"
     ]
    },
    {
     "name": "stdout",
     "output_type": "stream",
     "text": [
      "\r",
      " Training neural network. Epochs trained:  104"
     ]
    },
    {
     "name": "stdout",
     "output_type": "stream",
     "text": [
      "\r",
      " Training neural network. Epochs trained:  105"
     ]
    },
    {
     "name": "stdout",
     "output_type": "stream",
     "text": [
      "\r",
      " Training neural network. Epochs trained:  106"
     ]
    },
    {
     "name": "stdout",
     "output_type": "stream",
     "text": [
      "\r",
      " Training neural network. Epochs trained:  107"
     ]
    },
    {
     "name": "stdout",
     "output_type": "stream",
     "text": [
      "\r",
      " Training neural network. Epochs trained:  108"
     ]
    },
    {
     "name": "stdout",
     "output_type": "stream",
     "text": [
      "\r",
      " Training neural network. Epochs trained:  109"
     ]
    },
    {
     "name": "stdout",
     "output_type": "stream",
     "text": [
      "\r",
      " Training neural network. Epochs trained:  110"
     ]
    },
    {
     "name": "stdout",
     "output_type": "stream",
     "text": [
      "\r",
      " Training neural network. Epochs trained:  111"
     ]
    },
    {
     "name": "stdout",
     "output_type": "stream",
     "text": [
      "\r",
      " Training neural network. Epochs trained:  112"
     ]
    },
    {
     "name": "stdout",
     "output_type": "stream",
     "text": [
      "\r",
      " Training neural network. Epochs trained:  113"
     ]
    },
    {
     "name": "stdout",
     "output_type": "stream",
     "text": [
      "\r",
      " Training neural network. Epochs trained:  114"
     ]
    },
    {
     "name": "stdout",
     "output_type": "stream",
     "text": [
      "\r",
      " Training neural network. Epochs trained:  115"
     ]
    },
    {
     "name": "stdout",
     "output_type": "stream",
     "text": [
      "\r",
      " Training neural network. Epochs trained:  116"
     ]
    },
    {
     "name": "stdout",
     "output_type": "stream",
     "text": [
      "\r",
      " Training neural network. Epochs trained:  117"
     ]
    },
    {
     "name": "stdout",
     "output_type": "stream",
     "text": [
      "\r",
      " Training neural network. Epochs trained:  118"
     ]
    },
    {
     "name": "stdout",
     "output_type": "stream",
     "text": [
      "\r",
      " Training neural network. Epochs trained:  119"
     ]
    },
    {
     "name": "stdout",
     "output_type": "stream",
     "text": [
      "\r",
      " Training neural network. Epochs trained:  120"
     ]
    },
    {
     "name": "stdout",
     "output_type": "stream",
     "text": [
      "\r",
      " Training neural network. Epochs trained:  121"
     ]
    },
    {
     "name": "stdout",
     "output_type": "stream",
     "text": [
      "\r",
      " Training neural network. Epochs trained:  122"
     ]
    },
    {
     "name": "stdout",
     "output_type": "stream",
     "text": [
      "\r",
      " Training neural network. Epochs trained:  123"
     ]
    },
    {
     "name": "stdout",
     "output_type": "stream",
     "text": [
      "\r",
      " Training neural network. Epochs trained:  124"
     ]
    },
    {
     "name": "stdout",
     "output_type": "stream",
     "text": [
      "\r",
      " Training neural network. Epochs trained:  125"
     ]
    },
    {
     "name": "stdout",
     "output_type": "stream",
     "text": [
      "\r",
      " Training neural network. Epochs trained:  126"
     ]
    },
    {
     "name": "stdout",
     "output_type": "stream",
     "text": [
      "\r",
      " Training neural network. Epochs trained:  127Neural network successfully converged after 127 epochs.\n"
     ]
    }
   ],
   "source": [
    "from sbi.utils.get_nn_models import posterior_nn\n",
    "\n",
    "#we use a mdn model to have a fast turnaround with training\n",
    "defn = posterior_nn(model='mdn')\n",
    "inferer = SNPE(prior, density_estimator=defn)\n",
    "\n",
    "# let's not save the density_estimator in order to do NPE\n",
    "# (we have enough simulations)\n",
    "_ = inferer.append_simulations(theta, x).train()"
   ]
  },
  {
   "cell_type": "code",
   "execution_count": 6,
   "metadata": {
    "collapsed": false
   },
   "outputs": [
    {
     "data": {
      "application/vnd.jupyter.widget-view+json": {
       "model_id": "d10bd3a18b3f458e9cbcdeb203b3e633",
       "version_major": 2,
       "version_minor": 0
      },
      "text/plain": [
       "Drawing 15000 posterior samples:   0%|          | 0/15000 [00:00<?, ?it/s]"
      ]
     },
     "metadata": {},
     "output_type": "display_data"
    }
   ],
   "source": [
    "posterior = inferer.build_posterior()\n",
    "posterior_samples = posterior.sample((15_000,), x = x_o).detach()\n",
    "posterior_data = simulator(posterior_samples)\n"
   ]
  },
  {
   "cell_type": "code",
   "execution_count": 7,
   "metadata": {
    "collapsed": false
   },
   "outputs": [
    {
     "data": {
      "image/png": "[encoded data removed]",
      "text/plain": [
       "<Figure size 360x360 with 4 Axes>"
      ]
     },
     "metadata": {
      "needs_background": "light"
     },
     "output_type": "display_data"
    }
   ],
   "source": [
    "#let's do some posterior predictive checks to see if the\n",
    "#observation `x_o` remains within the support of the posterior\n",
    "from sbi.analysis import pairplot\n",
    "\n",
    "fig, ax = pairplot(\n",
    "    samples=posterior_data,\n",
    "    points=x_o,\n",
    "    limits=list(zip(.75*x_o.flatten(), 1.25*x_o.flatten())),\n",
    "    upper=['kde'],\n",
    "    diag=['kde'],\n",
    "    figsize=(5,5),\n",
    "    labels=[rf\"$\\theta_{d}$\" for d in range(3)]\n",
    ")"
   ]
  },
  {
   "cell_type": "markdown",
   "metadata": {
    "collapsed": false
   },
   "source": [
    "The posterior is well aligned with the observation. On top, the observation falls into the support of the posterior samples. That is indicative that our posterior estimate matches the true posterior very well."
   ]
  },
  {
   "cell_type": "markdown",
   "metadata": {
    "collapsed": false
   },
   "source": [
    "### Running SBC\n",
    "\n",
    "We have a working and trained posterior at this point! Hurray! Let's look at the SBC metrics now."
   ]
  },
  {
   "cell_type": "code",
   "execution_count": 8,
   "metadata": {
    "collapsed": false
   },
   "outputs": [],
   "source": [
    "num_sbc_runs = 1_000 #the higher sbc runs the better\n",
    "thetas = prior.sample((num_sbc_runs,)) #we sample again from the prior (as an alternative, we could have used our holdout set)\n",
    "xs = simulator(thetas) "
   ]
  },
  {
   "cell_type": "code",
   "execution_count": 9,
   "metadata": {
    "collapsed": false
   },
   "outputs": [
    {
     "data": {
      "application/vnd.jupyter.widget-view+json": {
       "model_id": "8fb9cd2fd9a24bd298fd1afae207ce7d",
       "version_major": 2,
       "version_minor": 0
      },
      "text/plain": [
       "Running 1000 sbc samples.:   0%|          | 0/1000 [00:00<?, ?it/s]"
      ]
     },
     "metadata": {},
     "output_type": "display_data"
    }
   ],
   "source": [
    "ranks, dap_samples = run_sbc(thetas, xs, posterior, num_workers=1)"
   ]
  },
  {
   "cell_type": "markdown",
   "metadata": {
    "collapsed": false
   },
   "source": [
    "`sbi` has established two methods to do simulation-based calibration:\n",
    "\n",
    "- metrics to compare the sbc ranks with a uniform distribution \n",
    "- control plots for visual inspections like fig. 1 or 2 in [Talts et al, 2018](https://arxiv.org/abs/1804.06788)\n",
    "\n",
    "The `ranks` count per dimension of `theta` how many posterior samples fall below `theta_o`. Based on theory, the distribution of these ranks per dimension of `theta` should turn out to be uniformly distributed. \n",
    "\n",
    "The data average posterior `dap` (see equation 1 of [Talts et al, 2018](https://arxiv.org/abs/1804.06788)) is yet another metric of interest. It contains one sample from the estimated posterior obtained from the `xs` above. The `dap` is expected to match the prior distribution used."
   ]
  },
  {
   "cell_type": "code",
   "execution_count": 10,
   "metadata": {
    "collapsed": false
   },
   "outputs": [],
   "source": [
    "check_stats = check_sbc(ranks, thetas, dap_samples, 1_000)"
   ]
  },
  {
   "cell_type": "markdown",
   "metadata": {
    "collapsed": false
   },
   "source": [
    "The `check_stats` variable created contains a dictionary with 3 metrics that help to judge our posterior. The \"first\" two compare the ranks to a uniform distribution."
   ]
  },
  {
   "cell_type": "markdown",
   "metadata": {
    "collapsed": false
   },
   "source": [
    "### Ranks versus Uniform distribution"
   ]
  },
  {
   "cell_type": "code",
   "execution_count": 11,
   "metadata": {
    "collapsed": false
   },
   "outputs": [
    {
     "name": "stdout",
     "output_type": "stream",
     "text": [
      "- kolmogorov-smirnov p-values \n",
      "  check_stats['ks_pvals'] = [0.3626923  0.01928918]\n",
      "- c2st accuracies \n",
      "  check_stats['c2st_ranks'] = [0.571  0.5735]\n"
     ]
    }
   ],
   "source": [
    "print(f\"- kolmogorov-smirnov p-values \\n  check_stats['ks_pvals'] = {check_stats['ks_pvals'].numpy()}\")\n",
    "print(f\"- c2st accuracies \\n  check_stats['c2st_ranks'] = {check_stats['c2st_ranks'].numpy()}\")"
   ]
  },
  {
   "cell_type": "markdown",
   "metadata": {
    "collapsed": false
   },
   "source": [
    "The Kolmogorov-Smirnov (KS test, see also [here](https://en.wikipedia.org/wiki/Kolmogorov%E2%80%93Smirnov_test#Two-sample_Kolmogorov%E2%80%93Smirnov_test)) provides a p-value `pvals` for the null hypothesis that the samples from `ranks` are drawn from a uniform distribution. We are provided two values as our problem is two-dimensional - one for each dimension. \n",
    "\n",
    "The null hypothesis (of both distributions being equal) is rejected if the p-values are below a significance threshold (usually `<0.05`) - as it would indicate a vanishing false positive rate. As we are provided high values of this statistic, both samples appear to be from the same distribution. "
   ]
  },
  {
   "cell_type": "markdown",
   "metadata": {
    "collapsed": false
   },
   "source": [
    "The second tier of metrics comparing `ranks` with a uniform distributions is a `c2st` test (see [here](http://arxiv.org/abs/1610.06545) for details). This is a nonparametric two sample test based on training a classifier to differented one of the ensembles (`ranks` versus samples from a uniform distribution) by being trained on the other. The values reported are the accuracies from cross-validation. If you see values around `0.5`, the classifier was unable to differentiate both ensembles, i.e. `ranks` are very uniform. If the values are high towards `1`, this matches the case where `ranks` is very unlike a uniform distribution."
   ]
  },
  {
   "cell_type": "markdown",
   "metadata": {
    "collapsed": false
   },
   "source": [
    "### Data averaged posterior (DAP) versus prior"
   ]
  },
  {
   "cell_type": "code",
   "execution_count": 12,
   "metadata": {
    "collapsed": false
   },
   "outputs": [
    {
     "name": "stdout",
     "output_type": "stream",
     "text": [
      "- c2st accuracies check_stats['c2st_dap'] = [0.492 0.479]\n"
     ]
    }
   ],
   "source": [
    "print(f\"- c2st accuracies check_stats['c2st_dap'] = {check_stats['c2st_dap'].numpy()}\")"
   ]
  },
  {
   "cell_type": "markdown",
   "metadata": {
    "collapsed": false
   },
   "source": [
    "The last metric reported is again based on `c2st` computed per dimension of `theta`. If you see values around `0.5`, the `c2st` classifier was unable to differentiate both ensembles for each dimension of `theta`, i.e. `dap` are much like (if not identical to) the prior. If the values are very high towards `1`, this represents the case where `dap` is very unlike the prior distribution."
   ]
  },
  {
   "cell_type": "markdown",
   "metadata": {
    "collapsed": false
   },
   "source": [
    "### Visual Inspection"
   ]
  },
  {
   "cell_type": "code",
   "execution_count": 13,
   "metadata": {
    "collapsed": false
   },
   "outputs": [
    {
     "data": {
      "image/png": "[encoded data removed]",
      "text/plain": [
       "<Figure size 576x360 with 2 Axes>"
      ]
     },
     "metadata": {
      "needs_background": "light"
     },
     "output_type": "display_data"
    }
   ],
   "source": [
    "from sbi.analysis.plot import sbc_rank_plot\n",
    "\n",
    "f, ax = sbc_rank_plot(ranks, 1_000, plot_type = \"hist\", num_bins=30)"
   ]
  },
  {
   "cell_type": "markdown",
   "metadata": {
    "collapsed": false
   },
   "source": [
    "The two plots show only visualize the histogram across the `ranks` (here depicted in red). Highlighted in grey is the 95% confidence interval of a uniform distribution given the number of samples provided. In plain english, the majority of red bars should reach the grey area of the confidence interval. \n",
    "\n",
    "We also observe, that the entries fluctuate to some degree. This can be considered a hint that `sbc` should be conducted with a lot more samples than 1000."
   ]
  },
  {
   "cell_type": "code",
   "execution_count": 14,
   "metadata": {
    "collapsed": false
   },
   "outputs": [
    {
     "data": {
      "image/png": "[encoded data removed]",
      "text/plain": [
       "<Figure size 576x360 with 1 Axes>"
      ]
     },
     "metadata": {
      "needs_background": "light"
     },
     "output_type": "display_data"
    }
   ],
   "source": [
    "f, ax = sbc_rank_plot(ranks, 1_000, plot_type = \"cdf\")"
   ]
  },
  {
   "cell_type": "markdown",
   "metadata": {
    "collapsed": false
   },
   "source": [
    "The above provides a visual representation of the cumulative density function (CDF) of `ranks` (blue and orange for each dimension of `theta`) with respect to the 95% confidence interval of a uniform distribution (grey)."
   ]
  },
  {
   "cell_type": "markdown",
   "metadata": {
    "collapsed": false
   },
   "source": [
    "# When things go haywire\n",
    "\n",
    "Next, we would like to explore some pathologies visible in sbc plots which can hint at our estimated posterior being somewhat wrong or completely off."
   ]
  },
  {
   "cell_type": "markdown",
   "metadata": {
    "collapsed": false
   },
   "source": [
    "## shifted posterior mean\n",
    "\n",
    "In this scenario we emulate the situation that our posterior estimates incorrectly with a constant shift. We reuse our trained NPE posterior from above and wrap it so that all samples returned expose a constant shift by `+0.1`."
   ]
  },
  {
   "cell_type": "code",
   "execution_count": 15,
   "metadata": {
    "collapsed": false
   },
   "outputs": [],
   "source": [
    "from utils_13_diagnosis_sbc import BiasedPosterior\n",
    "\n",
    "# this posterior shifts the expected value of the prior by .1\n",
    "posterior_ = BiasedPosterior(posterior, shift = .1)\n",
    "\n"
   ]
  },
  {
   "cell_type": "code",
   "execution_count": 16,
   "metadata": {
    "collapsed": false
   },
   "outputs": [
    {
     "data": {
      "application/vnd.jupyter.widget-view+json": {
       "model_id": "26ca1e8f32884d6ebfbf8903f672ed28",
       "version_major": 2,
       "version_minor": 0
      },
      "text/plain": [
       "Running 1000 sbc samples.:   0%|          | 0/1000 [00:00<?, ?it/s]"
      ]
     },
     "metadata": {},
     "output_type": "display_data"
    },
    {
     "name": "stdout",
     "output_type": "stream",
     "text": [
      "{'ks_pvals': tensor([0., 0.]), 'c2st_ranks': tensor([0.6970, 0.6655]), 'c2st_dap': tensor([0.4805, 0.4960])}\n"
     ]
    }
   ],
   "source": [
    "ranks, dap_samples = run_sbc(thetas, xs, posterior_, num_workers=1)\n",
    "check_stats = check_sbc(ranks, thetas, dap_samples, 1_000)\n",
    "print(check_stats)"
   ]
  },
  {
   "cell_type": "code",
   "execution_count": 17,
   "metadata": {
    "collapsed": false
   },
   "outputs": [
    {
     "data": {
      "image/png": "[encoded data removed]",
      "text/plain": [
       "<Figure size 576x360 with 2 Axes>"
      ]
     },
     "metadata": {
      "needs_background": "light"
     },
     "output_type": "display_data"
    }
   ],
   "source": [
    "f, ax = sbc_rank_plot(ranks, 1_000, plot_type = \"hist\", num_bins=30)"
   ]
  },
  {
   "cell_type": "markdown",
   "metadata": {
    "collapsed": false
   },
   "source": [
    "We can see that the Kolmogorv-Smirnov p-values vanish, we can reject the hypothesis that the `ranks` PDF is uniform PDF. The c2st accuracies show values higher than `0.5`. This is indicative that something is wrong as it emphasizes again the `ranks` is not a uniform PDF. Let's try to shift all posterior samples in the opposite direction. Because we have shifted the expected value of the posterior to higher values, we see more ranks at low values."
   ]
  },
  {
   "cell_type": "code",
   "execution_count": 18,
   "metadata": {
    "collapsed": false
   },
   "outputs": [
    {
     "data": {
      "application/vnd.jupyter.widget-view+json": {
       "model_id": "7535996a8a0c49fb99d78498b35e00ae",
       "version_major": 2,
       "version_minor": 0
      },
      "text/plain": [
       "Running 1000 sbc samples.:   0%|          | 0/1000 [00:00<?, ?it/s]"
      ]
     },
     "metadata": {},
     "output_type": "display_data"
    },
    {
     "name": "stdout",
     "output_type": "stream",
     "text": [
      "{'ks_pvals': tensor([0., 0.]), 'c2st_ranks': tensor([0.6865, 0.6810]), 'c2st_dap': tensor([0.5005, 0.4910])}\n"
     ]
    },
    {
     "data": {
      "image/png": "[encoded data removed]",
      "text/plain": [
       "<Figure size 576x360 with 2 Axes>"
      ]
     },
     "metadata": {
      "needs_background": "light"
     },
     "output_type": "display_data"
    }
   ],
   "source": [
    "posterior_ = BiasedPosterior(posterior, shift = -.1)\n",
    "ranks, dap_samples = run_sbc(thetas, xs, posterior_, num_workers=1)\n",
    "check_stats = check_sbc(ranks, thetas, dap_samples, 1_000)\n",
    "print(check_stats)\n",
    "f, ax = sbc_rank_plot(ranks, 1_000, plot_type = \"hist\", num_bins=30)"
   ]
  },
  {
   "cell_type": "markdown",
   "metadata": {
    "collapsed": false
   },
   "source": [
    "A similar behavior is observed, but this time we see an upshot of ranks to higher values. Because we have shifted the expected value of the posterior to smaller values, we see an upshot in high ranks.\n",
    "It is interesting to see that the historgams obtained provide very convincing evidence that this is not a uniform distribution. "
   ]
  },
  {
   "cell_type": "markdown",
   "metadata": {
    "collapsed": false
   },
   "source": [
    "## dispersed posterior\n",
    "\n",
    "In this scenario we emulate the situation if our posterior estimates incorrectly with a dispersion, i.e. the posterior is too wide or too thin. We reuse our trained NPE posterior from above and wrap it so that all samples return a dispersion by 100% more wide (`2`), i.e. the variance is overestimated by a factor of 2."
   ]
  },
  {
   "cell_type": "code",
   "execution_count": 24,
   "metadata": {
    "collapsed": false
   },
   "outputs": [],
   "source": [
    "from utils_13_diagnosis_sbc import DispersedPosterior\n",
    "\n",
    "# this posterior which disperses the expected posterior value of the prior by 2.\n",
    "posterior_ = DispersedPosterior(posterior, dispersion = 2.)"
   ]
  },
  {
   "cell_type": "code",
   "execution_count": 26,
   "metadata": {
    "collapsed": false
   },
   "outputs": [
    {
     "data": {
      "application/vnd.jupyter.widget-view+json": {
       "model_id": "401755d4fec5413e83d5973a24c5a8d8",
       "version_major": 2,
       "version_minor": 0
      },
      "text/plain": [
       "Running 1000 sbc samples.:   0%|          | 0/1000 [00:00<?, ?it/s]"
      ]
     },
     "metadata": {},
     "output_type": "display_data"
    },
    {
     "name": "stdout",
     "output_type": "stream",
     "text": [
      "{'ks_pvals': tensor([3.7037e-09, 8.1346e-08]), 'c2st_ranks': tensor([0.5790, 0.6145]), 'c2st_dap': tensor([0.4865, 0.4835])}\n"
     ]
    },
    {
     "data": {
      "image/png": "[encoded data removed]",
      "text/plain": [
       "<Figure size 576x360 with 2 Axes>"
      ]
     },
     "metadata": {
      "needs_background": "light"
     },
     "output_type": "display_data"
    }
   ],
   "source": [
    "ranks, dap_samples = run_sbc(thetas, xs, posterior_, num_workers=1)\n",
    "check_stats = check_sbc(ranks, thetas, dap_samples, 1_000)\n",
    "print(check_stats)\n",
    "f, ax = sbc_rank_plot(ranks, 1_000, plot_type = \"hist\", num_bins=30)"
   ]
  },
  {
   "cell_type": "markdown",
   "metadata": {
    "collapsed": false
   },
   "source": [
    "The rank histograms now look more like a very wide gaussian distribution centered in the middle. The KS p-values again vanish unsurprisingly (we must reject the hypothesis that both distributions are from the same uniform PDF) and the c2st_ranks indicate that the rank histogram is not uniform too. As our posterior samples are distributed too broad now, we obtain more \"medium\" range ranks and hence produce the peak of ranks in the center of the histogram."
   ]
  },
  {
   "cell_type": "markdown",
   "metadata": {
    "collapsed": false
   },
   "source": [
    "We can repeat this exercise by making our posterior too thin, i.e. the variance of the posterior is too small. Let's cut it by half."
   ]
  },
  {
   "cell_type": "code",
   "execution_count": 28,
   "metadata": {
    "collapsed": false
   },
   "outputs": [],
   "source": [
    "posterior_ = DispersedPosterior(posterior, dispersion = .5)"
   ]
  },
  {
   "cell_type": "code",
   "execution_count": 29,
   "metadata": {
    "collapsed": false
   },
   "outputs": [
    {
     "data": {
      "application/vnd.jupyter.widget-view+json": {
       "model_id": "f7b8fda61aa64534be2a8034bc68b119",
       "version_major": 2,
       "version_minor": 0
      },
      "text/plain": [
       "Running 1000 sbc samples.:   0%|          | 0/1000 [00:00<?, ?it/s]"
      ]
     },
     "metadata": {},
     "output_type": "display_data"
    },
    {
     "name": "stdout",
     "output_type": "stream",
     "text": [
      "{'ks_pvals': tensor([5.5271e-09, 1.3010e-10]), 'c2st_ranks': tensor([0.6145, 0.6210]), 'c2st_dap': tensor([0.5120, 0.4855])}\n"
     ]
    },
    {
     "data": {
      "image/png": "[encoded data removed]",
      "text/plain": [
       "<Figure size 576x360 with 2 Axes>"
      ]
     },
     "metadata": {
      "needs_background": "light"
     },
     "output_type": "display_data"
    }
   ],
   "source": [
    "ranks, dap_samples = run_sbc(thetas, xs, posterior_, num_workers=1)\n",
    "check_stats = check_sbc(ranks, thetas, dap_samples, 1_000)\n",
    "print(check_stats)\n",
    "f, ax = sbc_rank_plot(ranks, 1_000, plot_type = \"hist\", num_bins=30)"
   ]
  },
  {
   "cell_type": "markdown",
   "metadata": {
    "collapsed": false
   },
   "source": [
    "The histogram of ranks now shoots above the allowed (greyed) area for a uniform distributed around the extrema. We made the posterior samples too thin, so we received more extreme counts of ranks. The KS p-values vanish again and the `c2st` metric of the ranks is also larger than `.5` which underlines that our rank distribution is not uniformly distributed."
   ]
  }
 ],
 "metadata": {
  "interpreter": {
   "hash": "2193897e41726b46f35b9de052100742a934a9183b8a000ae8eb69e12e860d83"
  },
  "kernelspec": {
   "argv": [
    "python",
    "-m",
    "ipykernel_launcher",
    "-f",
    "{connection_file}"
   ],
   "display_name": "Python 3 (ipykernel)",
   "env": null,
   "interrupt_mode": "signal",
   "language": "python",
   "metadata": {
    "debugger": true
   },
   "name": "python3"
  },
  "language_info": {
   "codemirror_mode": {
    "name": "ipython",
    "version": 3
   },
   "file_extension": ".py",
   "mimetype": "text/x-python",
   "name": "python",
   "nbconvert_exporter": "python",
   "pygments_lexer": "ipython3",
   "version": "3.8.8"
  },
  "name": "13_diagnosis_sbc.ipynb"
 },
 "nbformat": 4,
 "nbformat_minor": 2
}
